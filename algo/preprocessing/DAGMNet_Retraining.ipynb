{
 "cells": [
  {
   "cell_type": "markdown",
   "id": "42b68c4a-9f2b-4a34-b9d5-02e6357f1d42",
   "metadata": {},
   "source": [
    "# Perform Retraining of DAGMNet"
   ]
  },
  {
   "cell_type": "markdown",
   "id": "db44dcbf-5a99-4f62-bd7a-d27e2bec79fd",
   "metadata": {},
   "source": [
    "## Load Model"
   ]
  },
  {
   "cell_type": "code",
   "execution_count": 2,
   "id": "3bd97b85-ee77-4305-848c-b05db4a5233e",
   "metadata": {},
   "outputs": [],
   "source": [
    "import scipy\n",
    "import os\n",
    "import numpy as np\n",
    "import nibabel as nib\n",
    "import matplotlib.pyplot as plt\n",
    "import tensorflow\n",
    "import random"
   ]
  },
  {
   "cell_type": "code",
   "execution_count": 3,
   "id": "4faf22d7-3685-4cb8-906e-84865e433693",
   "metadata": {},
   "outputs": [],
   "source": [
    "DAGMNet_ch2_name =  os.path.join(\"D:\\ADS_Algorithm\\ADSv1.3\\data\\Trained_Nets\", 'DAGMNet_CH2.h5')"
   ]
  },
  {
   "cell_type": "code",
   "execution_count": 4,
   "id": "e84ebaab-23c0-4287-87e5-17e6671f4d9c",
   "metadata": {},
   "outputs": [],
   "source": [
    "DAGMNet_ch2 = tensorflow.keras.models.load_model(DAGMNet_ch2_name, compile=False)"
   ]
  },
  {
   "cell_type": "code",
   "execution_count": 5,
   "id": "47775734-7735-482d-acf7-05b0bfdda03b",
   "metadata": {},
   "outputs": [
    {
     "data": {
      "text/plain": [
       "<KerasTensor: shape=(None, 96, 112, 48, 2) dtype=float32 (created by layer 'input_1')>"
      ]
     },
     "execution_count": 5,
     "metadata": {},
     "output_type": "execute_result"
    }
   ],
   "source": [
    "DAGMNet_ch2.input"
   ]
  },
  {
   "cell_type": "code",
   "execution_count": 26,
   "id": "f2774890-4bd9-47f0-8838-221bc1eefd3e",
   "metadata": {},
   "outputs": [],
   "source": [
    "swi_sample_img = nib.load(\"D:\\\\data_processed_ETIS\\\\Resized_Images\\\\DAGMNet_Training\\\\SWI_Train\\\\2018-104_01-10113-D0MR_9_Ax_T2_GRE__SkullStripped_Training_Normalized.nii.gz\")\n",
    "swi_sample_data = swi_sample_img.get_fdata()\n",
    "tof_sample_img = nib.load(\"D:\\\\data_processed_ETIS\\\\Resized_Images\\\\DAGMNet_Training\\\\TOF3D_Train\\\\2018-104_01-10113-D0MR_6_3D_TOF_LARGE__SkullStripped_Training_Normalized.nii.gz\")\n",
    "tof_sample_data = tof_sample_img.get_fdata()"
   ]
  },
  {
   "cell_type": "code",
   "execution_count": 27,
   "id": "29fe109d-6907-4b9f-a59d-a8c5f91eae6a",
   "metadata": {},
   "outputs": [],
   "source": [
    "swi_sample_data = swi_sample_data[:,:,:,np.newaxis]\n",
    "tof_sample_data = tof_sample_data[:,:,:,np.newaxis]"
   ]
  },
  {
   "cell_type": "code",
   "execution_count": 28,
   "id": "03323afb-3252-42e5-9358-788441227212",
   "metadata": {},
   "outputs": [],
   "source": [
    "dagmnet_input = np.expand_dims(np.concatenate((swi_sample_data,tof_sample_data),axis=3), axis=0)"
   ]
  },
  {
   "cell_type": "code",
   "execution_count": 23,
   "id": "36269606-2dbc-4cb3-9f10-366a174be800",
   "metadata": {},
   "outputs": [
    {
     "name": "stdout",
     "output_type": "stream",
     "text": [
      "1/1 [==============================] - 0s 39ms/step\n"
     ]
    }
   ],
   "source": [
    "dagmnet_output = DAGMNet_ch2.predict(dagmnet_input)"
   ]
  },
  {
   "cell_type": "markdown",
   "id": "0c436c74-705c-45ce-bc8b-9e12a8e89bcf",
   "metadata": {},
   "source": [
    "## Read-in Training Images"
   ]
  },
  {
   "cell_type": "code",
   "execution_count": 30,
   "id": "81280d9d-cd8d-4fa8-ae39-24060d90af5c",
   "metadata": {},
   "outputs": [],
   "source": [
    "swi_dir = \"D:\\\\data_processed_ETIS\\\\Resized_Images\\\\DAGMNet_Training\\\\SWI_Train\"\n",
    "tof_dir = \"D:\\\\data_processed_ETIS\\\\Resized_Images\\\\DAGMNet_Training\\\\TOF3D_Train\"\n",
    "\n",
    "swi_files = [file for file in os.listdir(swi_dir) if file.endswith('.nii.gz')]\n",
    "tof_files = [file for file in os.listdir(tof_dir) if file.endswith('.nii.gz')]\n",
    "\n",
    "X_train = np.zeros((len(swi_files), 1, 96, 112, 48, 2))\n",
    "index = 0\n",
    "\n",
    "for swi_file, tof_file in zip(swi_files,tof_files):\n",
    "    swi_img = nib.load(os.path.join(swi_dir, swi_file))\n",
    "    swi_data = swi_img.get_fdata()\n",
    "    tof_img = nib.load(os.path.join(tof_dir, tof_file))\n",
    "    tof_data = swi_img.get_fdata()\n",
    "\n",
    "    swi_data = swi_data[:,:,:,np.newaxis]\n",
    "    tof_data = tof_data[:,:,:,np.newaxis]\n",
    "    input_array = np.expand_dims(np.concatenate((swi_data,tof_data),axis=3), axis=0)\n",
    "    X_train[index] = input_array\n",
    "    index += 1"
   ]
  },
  {
   "cell_type": "code",
   "execution_count": 33,
   "id": "ab234b2e-968d-496c-9480-fec1edd8df34",
   "metadata": {},
   "outputs": [],
   "source": [
    "mask_dir = \"D:\\\\data_processed_ETIS\\\\Resized_Images\\\\DAGMNet_Training\\\\MASK_Train\"\n",
    "\n",
    "mask_files = [file for file in os.listdir(mask_dir) if file.endswith('.nii.gz')]\n",
    "\n",
    "y_train = np.zeros((len(mask_files), 96, 112, 48))\n",
    "index = 0\n",
    "\n",
    "for mask_file in mask_files:\n",
    "    mask_img = nib.load(os.path.join(mask_dir, mask_file))\n",
    "    mask_data = mask_img.get_fdata()\n",
    "    y_train[index] = mask_data\n",
    "    index += 1"
   ]
  },
  {
   "cell_type": "markdown",
   "id": "10b525b6-4553-475b-a0a3-f6198041bf5f",
   "metadata": {},
   "source": [
    "## Separate Test Batch of Images"
   ]
  },
  {
   "cell_type": "code",
   "execution_count": 8,
   "id": "89c67c05-8ab8-4708-b0fa-1fc532e08c6f",
   "metadata": {},
   "outputs": [],
   "source": [
    "mask_train_dir = \"D:\\\\data_processed_ETIS\\\\Resized_Images\\\\DAGMNet_Training\\\\MASK_Train\"\n",
    "mask_test_dir = \"D:\\\\data_processed_ETIS\\\\Resized_Images\\\\DAGMNet_Training\\\\MASK_Test\"\n",
    "swi_train_dir = \"D:\\\\data_processed_ETIS\\\\Resized_Images\\\\DAGMNet_Training\\\\SWI_Train\"\n",
    "swi_test_dir = \"D:\\\\data_processed_ETIS\\\\Resized_Images\\\\DAGMNet_Training\\\\SWI_Test\"\n",
    "tof_train_dir = \"D:\\\\data_processed_ETIS\\\\Resized_Images\\\\DAGMNet_Training\\\\TOF3D_Train\"\n",
    "tof_test_dir = \"D:\\\\data_processed_ETIS\\\\Resized_Images\\\\DAGMNet_Training\\\\TOF3D_Test\""
   ]
  },
  {
   "cell_type": "code",
   "execution_count": 9,
   "id": "57cdd130-70d0-4de3-89a3-29625925c4c6",
   "metadata": {},
   "outputs": [],
   "source": [
    "random.seed(777)"
   ]
  },
  {
   "cell_type": "code",
   "execution_count": 10,
   "id": "20ed4a98-2fcd-405d-8308-87e45df94d1f",
   "metadata": {},
   "outputs": [],
   "source": [
    "test_indexes = random.sample(range(len(os.listdir(mask_train_dir))), 100)"
   ]
  },
  {
   "cell_type": "code",
   "execution_count": 11,
   "id": "b014755f-e9d0-45f4-a472-a837fe76539b",
   "metadata": {},
   "outputs": [],
   "source": [
    "file_list = [os.listdir(mask_train_dir)[index] for index in test_indexes]\n",
    "for file in file_list:\n",
    "    os.rename(os.path.join(mask_train_dir, file), os.path.join(mask_test_dir, file))"
   ]
  },
  {
   "cell_type": "code",
   "execution_count": 12,
   "id": "152c75af-da9c-46cc-8b0c-ed6f852275c7",
   "metadata": {},
   "outputs": [],
   "source": [
    "file_list = [os.listdir(swi_train_dir)[index] for index in test_indexes]\n",
    "for file in file_list:\n",
    "    os.rename(os.path.join(swi_train_dir, file), os.path.join(swi_test_dir, file))"
   ]
  },
  {
   "cell_type": "code",
   "execution_count": 13,
   "id": "39df046a-e667-48b6-a747-dfa1ffcf4be9",
   "metadata": {},
   "outputs": [],
   "source": [
    "file_list = [os.listdir(tof_train_dir)[index] for index in test_indexes]\n",
    "for file in file_list:\n",
    "    os.rename(os.path.join(tof_train_dir, file), os.path.join(tof_test_dir, file))"
   ]
  },
  {
   "cell_type": "markdown",
   "id": "4ced6796-1597-405d-9478-93d9e57efd17",
   "metadata": {},
   "source": [
    "## Define Custom Loss Functions"
   ]
  },
  {
   "cell_type": "code",
   "execution_count": null,
   "id": "4d3e0e16-396c-403c-8adb-1a7fe1be4707",
   "metadata": {},
   "outputs": [],
   "source": [
    "def l1_loss(y_pred):\n",
    "    np.sum()"
   ]
  },
  {
   "cell_type": "code",
   "execution_count": null,
   "id": "61d5bd38-5729-4ae3-8cca-fb2708336920",
   "metadata": {},
   "outputs": [],
   "source": [
    "def combined_loss(y_true, y_pred):\n",
    "    cross_entropy_loss = tensorflow.keras.losses.BinaryCrossEntropy()\n",
    "    dice_loss = tensorflow.keras.losses.Dice()"
   ]
  }
 ],
 "metadata": {
  "kernelspec": {
   "display_name": "Python 3 (ipykernel)",
   "language": "python",
   "name": "python3"
  },
  "language_info": {
   "codemirror_mode": {
    "name": "ipython",
    "version": 3
   },
   "file_extension": ".py",
   "mimetype": "text/x-python",
   "name": "python",
   "nbconvert_exporter": "python",
   "pygments_lexer": "ipython3",
   "version": "3.10.6"
  }
 },
 "nbformat": 4,
 "nbformat_minor": 5
}
