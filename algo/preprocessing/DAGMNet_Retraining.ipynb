{
 "cells": [
  {
   "cell_type": "code",
   "execution_count": 1,
   "id": "3bd97b85-ee77-4305-848c-b05db4a5233e",
   "metadata": {},
   "outputs": [],
   "source": [
    "import scipy\n",
    "import os\n",
    "import numpy as np\n",
    "import nibabel as nib\n",
    "import matplotlib.pyplot as plt\n",
    "import tensorflow"
   ]
  },
  {
   "cell_type": "code",
   "execution_count": 6,
   "id": "4faf22d7-3685-4cb8-906e-84865e433693",
   "metadata": {},
   "outputs": [],
   "source": [
    "DAGMNet_ch2_name =  os.path.join(\"D:\\ADS_Algorithm\\ADSv1.3\\data\\Trained_Nets\", 'DAGMNet_CH2.h5')"
   ]
  },
  {
   "cell_type": "code",
   "execution_count": 7,
   "id": "e84ebaab-23c0-4287-87e5-17e6671f4d9c",
   "metadata": {},
   "outputs": [],
   "source": [
    "DAGMNet_ch2 = tensorflow.keras.models.load_model(DAGMNet_ch2_name, compile=False)"
   ]
  },
  {
   "cell_type": "code",
   "execution_count": 8,
   "id": "47775734-7735-482d-acf7-05b0bfdda03b",
   "metadata": {},
   "outputs": [
    {
     "data": {
      "text/plain": [
       "<KerasTensor: shape=(None, 96, 112, 48, 2) dtype=float32 (created by layer 'input_1')>"
      ]
     },
     "execution_count": 8,
     "metadata": {},
     "output_type": "execute_result"
    }
   ],
   "source": [
    "DAGMNet_ch2.input"
   ]
  },
  {
   "cell_type": "code",
   "execution_count": 10,
   "id": "f2774890-4bd9-47f0-8838-221bc1eefd3e",
   "metadata": {},
   "outputs": [
    {
     "data": {
      "text/plain": [
       "192"
      ]
     },
     "execution_count": 10,
     "metadata": {},
     "output_type": "execute_result"
    }
   ],
   "source": [
    "ref_img_skullstripping_resized = tio.ScalarImage((\"D:\\\\pythonscripts_ETIS\\\\Reference_Image_SkullStripping\\\\Reference_DWI_ADS.nii.gz\"))\n",
    "ref_image_resized = tio.Resize((96,112,48))(ref_img_skullstripping_resized)\n",
    "ref_image_resized.save(\"D:\\\\pythonscripts_ETIS\\\\Reference_Image_SkullStripping\\\\Reference_DWI_ADS.nii.gz\")"
   ]
  },
  {
   "cell_type": "code",
   "execution_count": null,
   "id": "29fe109d-6907-4b9f-a59d-a8c5f91eae6a",
   "metadata": {},
   "outputs": [],
   "source": []
  }
 ],
 "metadata": {
  "kernelspec": {
   "display_name": "Python 3 (ipykernel)",
   "language": "python",
   "name": "python3"
  },
  "language_info": {
   "codemirror_mode": {
    "name": "ipython",
    "version": 3
   },
   "file_extension": ".py",
   "mimetype": "text/x-python",
   "name": "python",
   "nbconvert_exporter": "python",
   "pygments_lexer": "ipython3",
   "version": "3.10.6"
  }
 },
 "nbformat": 4,
 "nbformat_minor": 5
}
