{
 "cells": [
  {
   "cell_type": "code",
   "execution_count": 1,
   "id": "f600c6c1-2c10-4602-9c80-7b579e0a6134",
   "metadata": {},
   "outputs": [
    {
     "name": "stderr",
     "output_type": "stream",
     "text": [
      "C:\\Users\\wijflo\\AppData\\Local\\Programs\\Python\\Python311\\Lib\\site-packages\\tqdm\\auto.py:21: TqdmWarning: IProgress not found. Please update jupyter and ipywidgets. See https://ipywidgets.readthedocs.io/en/stable/user_install.html\n",
      "  from .autonotebook import tqdm as notebook_tqdm\n"
     ]
    }
   ],
   "source": [
    "import nibabel as nib\n",
    "import numpy as np\n",
    "import torchio as tio\n",
    "import os"
   ]
  },
  {
   "cell_type": "code",
   "execution_count": 2,
   "id": "18257c04-2ad9-461b-9bdd-a948982fd09d",
   "metadata": {},
   "outputs": [],
   "source": [
    "def tuple_product(*args):\n",
    "    product = 1\n",
    "    for element in args:\n",
    "        product *= element\n",
    "    return product"
   ]
  },
  {
   "cell_type": "code",
   "execution_count": 4,
   "id": "a1c4273d-7794-427d-9e2d-5969c38e9006",
   "metadata": {},
   "outputs": [],
   "source": [
    "def resize_images_to_reference (source_path, destination_path, ref_image_path=None, modification_string=\"\", inclusion_string=\"\"):\n",
    "    files = os.listdir(source_path)\n",
    "\n",
    "    # Select files to process.\n",
    "    nifti_files = [file for file in files if (file.endswith('.nii.gz')) & (inclusion_string in file)]\n",
    "    nii_img_shapes = []\n",
    "\n",
    "    # First get a list of image shapes.\n",
    "    for file in nifti_files:\n",
    "        file_path = os.path.join(source_path, file)\n",
    "        nii_img = nib.load(file_path)\n",
    "        nii_img_shapes.append(nii_img.shape)\n",
    "    \n",
    "    nifti_files_to_process = nifti_files.copy()\n",
    "\n",
    "    # If no reference image is used, dynamically choose a reference among selected files by choosing the biggest image.\n",
    "    if ref_image_path is None:\n",
    "        index_of_max_product = max(range(len(nii_img_shapes)), key=lambda i: tuple_product(nii_img_shapes[i]))\n",
    "        del nifti_files_to_process[index_of_max_product]\n",
    "        \n",
    "        reference_filename = nifti_files[index_of_max_product]\n",
    "        reference_image = tio.ScalarImage(os.path.join(source_path, reference_filename))\n",
    "        \n",
    "    else:\n",
    "        reference_filename = os.path.basename(ref_image_path)\n",
    "        reference_image = tio.ScalarImage(ref_image_path)\n",
    "    \n",
    "    # Define the reference image name, adding the modification string if necessary.\n",
    "    split_name = reference_filename.split(\"_\")\n",
    "    if modification_string != \"\":\n",
    "        split_name.insert(-1, modification_string)\n",
    "    new_reference_img_name = \"_\".join(split_name)\n",
    "\n",
    "    reference_image.save(os.path.join(destination_path, new_reference_img_name))\n",
    "\n",
    "    print(\"Processed reference image \", reference_filename)\n",
    "\n",
    "    # Use tio.Resample to resize all images to match the shape of the reference image.\n",
    "    for file in nifti_files_to_process:\n",
    "        file_path = os.path.join(source_path, file)\n",
    "        \n",
    "        image_to_resize = tio.ScalarImage(file_path)\n",
    "        normalized_image = tio.Resample(target=reference_image)(image_to_resize)\n",
    "        \n",
    "        split_name = file.split(\"_\")\n",
    "        if modification_string != \"\":\n",
    "            split_name.insert(-1, modification_string)\n",
    "        new_img_name = \"_\".join(split_name)\n",
    "\n",
    "        normalized_image.save(os.path.join(destination_path, new_img_name))\n",
    "        \n",
    "        print(\"Processed image \", file)"
   ]
  },
  {
   "cell_type": "code",
   "execution_count": 12,
   "id": "32ff31e1-ea2e-47a7-a8e9-f46d53a2ce2f",
   "metadata": {},
   "outputs": [],
   "source": [
    "reference_image.save(os.path.join(\"D:\\\\pythonscripts_ETIS\", new_reference_img_name))"
   ]
  },
  {
   "cell_type": "code",
   "execution_count": 17,
   "id": "c78fb30e-7eda-40f4-a6ca-cf68c865ef73",
   "metadata": {},
   "outputs": [
    {
     "name": "stdout",
     "output_type": "stream",
     "text": [
      "Processed reference image  2018-104_01-10087-D0MR_b0.nii.gz\n",
      "Processed image  2018-104_01-10087-D0MR_DWI.nii.gz\n",
      "Processed reference image  2018-104_01-10113-D0MR_b0.nii.gz\n",
      "Processed image  2018-104_01-10113-D0MR_DWI.nii.gz\n",
      "Processed reference image  2018-104_01-10114-D0MR_b0.nii.gz\n",
      "Processed image  2018-104_01-10114-D0MR_DWI.nii.gz\n",
      "Processed reference image  2018-104_01-10116-D0MR_b0.nii.gz\n",
      "Processed image  2018-104_01-10116-D0MR_DWI.nii.gz\n",
      "Processed reference image  2018-104_01-10117-D0MR_b0.nii.gz\n",
      "Processed image  2018-104_01-10117-D0MR_DWI.nii.gz\n",
      "Processed reference image  2018-104_01-10118-D0MR_b0.nii.gz\n",
      "Processed image  2018-104_01-10118-D0MR_DWI.nii.gz\n"
     ]
    }
   ],
   "source": [
    "basedir = \"D:\\\\ADS_Inference\\\\Original_ADS\"\n",
    "folder_list = [folder for folder in os.listdir(basedir) if (\".ipynb\" not in folder) ]\n",
    "\n",
    "for folder in folder_list:\n",
    "    folder_path = os.path.join(basedir, folder)\n",
    "    resize_images_to_reference(folder_path, folder_path, \"Normalized\")"
   ]
  },
  {
   "cell_type": "code",
   "execution_count": 7,
   "id": "2e8c9229-bf02-4322-8d6f-e6389b6d9da5",
   "metadata": {},
   "outputs": [
    {
     "name": "stdout",
     "output_type": "stream",
     "text": [
      "Processed reference image  Reference_DWI_ADS_Normalized.nii.gz\n",
      "Processed image  2018-104_01-10087-D0MR_12_SWI_Images_swi3d1r_Normalized.nii.gz\n",
      "Processed image  2018-104_01-10087-D0MR_8_TOF_3D_NEW_wo_ARTEFACTS_fl3d1r_t50_Normalized.nii.gz\n",
      "Processed image  2018-104_01-10113-D0MR_6_3D_TOF_LARGE_Normalized.nii.gz\n",
      "Processed image  2018-104_01-10113-D0MR_9_Ax_T2_GRE_Normalized.nii.gz\n",
      "Processed image  2018-104_01-10114-D0MR_6_3D_TOF_LARGE_Normalized.nii.gz\n",
      "Processed image  2018-104_01-10114-D0MR_7_Ax_3D_SWAN+CARTO_Normalized.nii.gz\n",
      "Processed image  2018-104_01-10116-D0MR_7_AXIAL_T2_EG_fl2d1_Normalized.nii.gz\n",
      "Processed image  2018-104_01-10116-D0MR_8_TOF_3D_WILLIS_FIN_fl3d1r_t70_Normalized.nii.gz\n",
      "Processed image  2018-104_01-10117-D0MR_6_3D_TOF_LARGE_Normalized.nii.gz\n",
      "Processed image  2018-104_01-10117-D0MR_7_Ax_T2_GRE_Normalized.nii.gz\n",
      "Processed image  2018-104_01-10118-D0MR_12_SWI_Images_swi3d1r_Normalized.nii.gz\n",
      "Processed image  2018-104_01-10118-D0MR_8_TOF_3D_RAPIDE_fl3d1r_t40_Normalized.nii.gz\n"
     ]
    }
   ],
   "source": [
    "basedir = \"D:\\\\pythonscripts_ETIS\\\\Intensity_Normalized_imgs\"\n",
    "\n",
    "resize_images_to_reference(basedir, \"D:\\\\pythonscripts_ETIS\\\\Test_SWI_Norm\", ref_image_path=\"D:\\\\pythonscripts_ETIS\\\\Reference_Image_SkullStripping\\\\Reference_DWI_ADS_Normalized.nii.gz\")"
   ]
  },
  {
   "cell_type": "code",
   "execution_count": 23,
   "id": "712977df-c347-4c23-9086-af770fd0f526",
   "metadata": {},
   "outputs": [],
   "source": [
    "ref_img_raw = tio.ScalarImage((\"D:\\\\ADS_Algorithm\\\\ADSv1.3\\\\data\\\\examples\\\\Subject01\\\\Subject01_DWI.nii.gz\"))\n",
    "ref_image_resized = tio.Resize((192,224,192))(ref_img_raw)\n",
    "ref_image_resized.save(\"D:\\\\pythonscripts_ETIS\\\\Reference_Image_SkullStripping\\\\Reference_DWI_ADS.nii.gz\")"
   ]
  },
  {
   "cell_type": "code",
   "execution_count": null,
   "id": "bcf8689b-195e-4fc7-b373-dd5c93b39451",
   "metadata": {},
   "outputs": [],
   "source": []
  }
 ],
 "metadata": {
  "kernelspec": {
   "display_name": "Python 3 (ipykernel)",
   "language": "python",
   "name": "python3"
  },
  "language_info": {
   "codemirror_mode": {
    "name": "ipython",
    "version": 3
   },
   "file_extension": ".py",
   "mimetype": "text/x-python",
   "name": "python",
   "nbconvert_exporter": "python",
   "pygments_lexer": "ipython3",
   "version": "3.11.8"
  }
 },
 "nbformat": 4,
 "nbformat_minor": 5
}
