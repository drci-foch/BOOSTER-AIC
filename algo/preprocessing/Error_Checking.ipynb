{
 "cells": [
  {
   "cell_type": "code",
   "execution_count": 1,
   "id": "964f6138-fd56-4901-8b8c-47c6fc7fece7",
   "metadata": {},
   "outputs": [],
   "source": [
    "import nibabel as nib\n",
    "import numpy as np\n",
    "import matplotlib.pyplot as plt\n",
    "import os"
   ]
  },
  {
   "cell_type": "markdown",
   "id": "934798f9-7966-40ef-bae0-9eb3a4bc7b00",
   "metadata": {},
   "source": [
    "## Check resizing output"
   ]
  },
  {
   "cell_type": "code",
   "execution_count": 19,
   "id": "a2e8e1bf-760c-4e82-ab92-aa6408539a17",
   "metadata": {},
   "outputs": [],
   "source": [
    "mask_dir = \"D:\\\\data_processed_ETIS\\\\Resized_Images\\\\DAGMNet_Training\\\\MASK\"\n",
    "swi_dir = \"D:\\data_processed_ETIS\\Resized_Images\\DAGMNet_Training\\SWI\"\n",
    "tof_dir = \"D:\\data_processed_ETIS\\Resized_Images\\DAGMNet_Training\\TOF3D\""
   ]
  },
  {
   "cell_type": "code",
   "execution_count": 26,
   "id": "e9d4d10e-d7b0-45cf-b590-bfe4d301cbb9",
   "metadata": {},
   "outputs": [],
   "source": [
    "mask_prefixes = [\"_\".join(filename.split(\"_\")[0:2]) for filename in os.listdir(mask_dir)]\n",
    "swi_prefixes = [\"_\".join(filename.split(\"_\")[0:2]) for filename in os.listdir(swi_dir)]\n",
    "tof_prefixes = [\"_\".join(filename.split(\"_\")[0:2]) for filename in os.listdir(tof_dir)]"
   ]
  },
  {
   "cell_type": "code",
   "execution_count": 27,
   "id": "e0d12c9d-868e-4d7d-b817-ab039aeaddde",
   "metadata": {},
   "outputs": [],
   "source": [
    "missing_swi = list(set(mask_prefixes) - set(swi_prefixes))\n",
    "missing_tof = list(set(mask_prefixes) - set(tof_prefixes))"
   ]
  },
  {
   "cell_type": "code",
   "execution_count": 28,
   "id": "2e2020f9-ad40-4e61-acbd-b9cd21caf0c3",
   "metadata": {},
   "outputs": [
    {
     "data": {
      "text/plain": [
       "['2018-104_02-10548-D0MR', '2018-104_09-10648-D0MR', '2018-104_02-10565-D0MR']"
      ]
     },
     "execution_count": 28,
     "metadata": {},
     "output_type": "execute_result"
    }
   ],
   "source": [
    "missing_swi"
   ]
  },
  {
   "cell_type": "code",
   "execution_count": 29,
   "id": "e6a4ed57-f9e7-421a-af65-42d37c05ac73",
   "metadata": {},
   "outputs": [
    {
     "data": {
      "text/plain": [
       "['2018-104_02-10548-D0MR', '2018-104_09-10648-D0MR', '2018-104_02-10565-D0MR']"
      ]
     },
     "execution_count": 29,
     "metadata": {},
     "output_type": "execute_result"
    }
   ],
   "source": [
    "missing_tof"
   ]
  },
  {
   "cell_type": "markdown",
   "id": "7f569500-1b15-4278-9bf9-8cedff4fe5d0",
   "metadata": {},
   "source": [
    "## Check Extraction Contents"
   ]
  },
  {
   "cell_type": "code",
   "execution_count": 3,
   "id": "f30ee73c-5ac7-486c-9640-3dad1a6389fc",
   "metadata": {},
   "outputs": [],
   "source": [
    "mask_dir = \"D:\\\\THROMBMICS-ALARMS_20240531\"\n",
    "diff_dir = \"D:\\\\ENVOI_DIFF-20240424\"\n",
    "flair_dir = \"D:\\\\20240305_THROMBMICS_FLAIR\""
   ]
  },
  {
   "cell_type": "code",
   "execution_count": 4,
   "id": "6969ff1f-6303-4b87-aadb-2205afc10e81",
   "metadata": {},
   "outputs": [],
   "source": [
    "mask_prefixes = [dirname for dirname in os.listdir(mask_dir)]\n",
    "diff_prefixes = [dirname for dirname in os.listdir(diff_dir)]\n",
    "flair_prefixes = [dirname for dirname in os.listdir(flair_dir)]"
   ]
  },
  {
   "cell_type": "code",
   "execution_count": 7,
   "id": "b0879034-34bb-433b-934f-0ba29b4144fc",
   "metadata": {},
   "outputs": [],
   "source": [
    "missing_diff = list(set(mask_prefixes) - set(diff_prefixes))\n",
    "missing_flair = list(set(mask_prefixes) - set(flair_prefixes))"
   ]
  },
  {
   "cell_type": "code",
   "execution_count": 8,
   "id": "56d6b026-1043-49b8-812e-6d5f75aad7cd",
   "metadata": {},
   "outputs": [
    {
     "data": {
      "text/plain": [
       "['18-104_THROMBMICS-ALARMS_202405311144.csv']"
      ]
     },
     "execution_count": 8,
     "metadata": {},
     "output_type": "execute_result"
    }
   ],
   "source": [
    "missing_diff"
   ]
  },
  {
   "cell_type": "code",
   "execution_count": 11,
   "id": "127c56f6-d354-4948-b128-36e4862d0a24",
   "metadata": {},
   "outputs": [
    {
     "data": {
      "text/plain": [
       "['2018-104_16-10100-D0MR',\n",
       " '2018-104_02-10597-D0MR',\n",
       " '2018-104_07-10173-D0MR',\n",
       " '2018-104_02-10548-D0MR',\n",
       " '2018-104_02-10573-D0MR',\n",
       " '2018-104_02-10570-D0MR',\n",
       " '2018-104_02-10580-D0MR',\n",
       " '18-104_THROMBMICS-ALARMS_202405311144.csv',\n",
       " '2018-104_18-10099-D0MR',\n",
       " '2018-104_02-10605-D0MR',\n",
       " '2018-104_06-10172-D0MR',\n",
       " '2018-104_02-10563-D0MR',\n",
       " '2018-104_18-10033-D0MR',\n",
       " '2018-104_02-10552-D0MR',\n",
       " '2018-104_02-10610-D0MR',\n",
       " '2018-104_02-10521-D0MR',\n",
       " '2018-104_30-10053-D0MR',\n",
       " '2018-104_17-10114-D0MR',\n",
       " '2018-104_18-10019-D0MR']"
      ]
     },
     "execution_count": 11,
     "metadata": {},
     "output_type": "execute_result"
    }
   ],
   "source": [
    "missing_flair"
   ]
  },
  {
   "cell_type": "code",
   "execution_count": null,
   "id": "bdcd9792-7f5a-4501-8941-e9e56e17f842",
   "metadata": {},
   "outputs": [],
   "source": []
  }
 ],
 "metadata": {
  "kernelspec": {
   "display_name": "Python 3 (ipykernel)",
   "language": "python",
   "name": "python3"
  },
  "language_info": {
   "codemirror_mode": {
    "name": "ipython",
    "version": 3
   },
   "file_extension": ".py",
   "mimetype": "text/x-python",
   "name": "python",
   "nbconvert_exporter": "python",
   "pygments_lexer": "ipython3",
   "version": "3.10.6"
  }
 },
 "nbformat": 4,
 "nbformat_minor": 5
}
