{
 "cells": [
  {
   "cell_type": "code",
   "execution_count": 28,
   "id": "8736de39-d4e2-4cf2-9d76-11616f11eb92",
   "metadata": {},
   "outputs": [],
   "source": [
    "import os\n",
    "import shutil\n",
    "import nibabel as nib\n",
    "import numpy as np"
   ]
  },
  {
   "cell_type": "markdown",
   "id": "913b9c0f-806a-4331-8905-8f1b73093b7d",
   "metadata": {},
   "source": [
    "## Fill files from list of folders"
   ]
  },
  {
   "cell_type": "code",
   "execution_count": 21,
   "id": "266052cd-8644-4ec3-a314-19645efe8bfa",
   "metadata": {},
   "outputs": [],
   "source": [
    "flair_dir = \"G:\\\\Data_Booster\\\\20240305_THROMBMICS_FLAIR\"\n",
    "diff_dir = \"G:\\\\Data_Booster\\\\ENVOI_DIFF-20240424\"\n",
    "mask_dir = \"G:\\\\Data_Booster\\\\data_ETIS_781\\\\MASK\"\n",
    "flair_781_dir = \"G:\\\\Data_Booster\\\\data_ETIS_781\\\\FLAIR\"\n",
    "diff_781_b0_dir = \"G:\\\\Data_Booster\\\\data_ETIS_781\\\\DIFF\\\\B0\"\n",
    "diff_781_all_dir = \"G:\\\\Data_Booster\\\\data_ETIS_781\\\\DIFF\\\\ALL\""
   ]
  },
  {
   "cell_type": "code",
   "execution_count": 20,
   "id": "45b07136-caf7-4cb3-81f9-45cb35c9467c",
   "metadata": {},
   "outputs": [],
   "source": [
    "annotated_mask_numbers = [\"_\".join(file.split(\"_\")[:2]) for file in os.listdir(mask_dir)]"
   ]
  },
  {
   "cell_type": "code",
   "execution_count": 11,
   "id": "b10211d4-504c-43a4-9290-99b5b1629b3f",
   "metadata": {},
   "outputs": [
    {
     "name": "stdout",
     "output_type": "stream",
     "text": [
      "Sample filenumber 2018-104_02-10521-D0MR missing from FLAIR folder.\n",
      "Sample filenumber 2018-104_02-10548-D0MR missing from FLAIR folder.\n",
      "Sample filenumber 2018-104_02-10552-D0MR missing from FLAIR folder.\n",
      "Sample filenumber 2018-104_02-10563-D0MR missing from FLAIR folder.\n",
      "Sample filenumber 2018-104_02-10570-D0MR missing from FLAIR folder.\n",
      "Sample filenumber 2018-104_02-10573-D0MR missing from FLAIR folder.\n",
      "Sample filenumber 2018-104_02-10580-D0MR missing from FLAIR folder.\n",
      "Sample filenumber 2018-104_02-10597-D0MR missing from FLAIR folder.\n",
      "Sample filenumber 2018-104_02-10605-D0MR missing from FLAIR folder.\n",
      "Sample filenumber 2018-104_02-10610-D0MR missing from FLAIR folder.\n",
      "Sample filenumber 2018-104_06-10172-D0MR missing from FLAIR folder.\n",
      "Sample filenumber 2018-104_07-10173-D0MR missing from FLAIR folder.\n",
      "Sample filenumber 2018-104_16-10100-D0MR missing from FLAIR folder.\n",
      "Sample filenumber 2018-104_17-10114-D0MR missing from FLAIR folder.\n",
      "Sample filenumber 2018-104_18-10019-D0MR missing from FLAIR folder.\n",
      "Sample filenumber 2018-104_18-10033-D0MR missing from FLAIR folder.\n",
      "Sample filenumber 2018-104_18-10099-D0MR missing from FLAIR folder.\n",
      "Sample filenumber 2018-104_30-10053-D0MR missing from FLAIR folder.\n"
     ]
    }
   ],
   "source": [
    "flair_numbers = os.listdir(flair_dir)\n",
    "\n",
    "for filenumber in annotated_mask_numbers:\n",
    "    if filenumber in flair_numbers:\n",
    "        file_location = os.path.join(flair_dir,filenumber,\"FLAIR\")\n",
    "        nifti_filenames = [file for file in os.listdir(file_location) if file.endswith(\".nii.gz\")]\n",
    "        if len(nifti_filenames) > 1:\n",
    "            print(f\"More than 1 FLAIR file found for sample number {filenumber}\")\n",
    "        for nifti_file in nifti_filenames:\n",
    "            shutil.copyfile(os.path.join(file_location, nifti_file), os.path.join(flair_781_dir, nifti_file))\n",
    "    else:\n",
    "        print(f\"Sample filenumber {filenumber} missing from FLAIR folder.\")\n",
    "        continue"
   ]
  },
  {
   "cell_type": "code",
   "execution_count": 22,
   "id": "7fb08ca0-7da6-4448-b976-41fd94e4f9d8",
   "metadata": {},
   "outputs": [
    {
     "name": "stdout",
     "output_type": "stream",
     "text": [
      "More than 1 FLAIR file found for sample number 2018-104_09-10670-D0MR\n",
      "More than 1 FLAIR file found for sample number 2018-104_09-10683-D0MR\n"
     ]
    }
   ],
   "source": [
    "diff_numbers = os.listdir(diff_dir)\n",
    "\n",
    "for filenumber in annotated_mask_numbers:\n",
    "    if filenumber in diff_numbers:\n",
    "        if \"DIFF_B0\" in os.listdir(os.path.join(diff_dir,filenumber)):\n",
    "            file_location = os.path.join(diff_dir,filenumber,\"DIFF_B0\")\n",
    "            nifti_filenames = [file for file in os.listdir(file_location) if file.endswith(\".nii.gz\")]\n",
    "            if len(nifti_filenames) > 1:\n",
    "                print(f\"More than 1 DIFF file found for sample number {filenumber}\")\n",
    "            for nifti_file in nifti_filenames:\n",
    "                shutil.copyfile(os.path.join(file_location, nifti_file), os.path.join(diff_781_b0_dir, nifti_file))\n",
    "        elif \"DIFF_ALL\" in os.listdir(os.path.join(diff_dir,filenumber)):\n",
    "            file_location = os.path.join(diff_dir,filenumber,\"DIFF_ALL\")\n",
    "            nifti_filenames = [file for file in os.listdir(file_location) if file.endswith(\".nii.gz\")]\n",
    "            if len(nifti_filenames) > 1:\n",
    "                print(f\"More than 1 DIFF file found for sample number {filenumber}\")\n",
    "            for nifti_file in nifti_filenames:\n",
    "                shutil.copyfile(os.path.join(file_location, nifti_file), os.path.join(diff_781_all_dir, nifti_file))\n",
    "        else:\n",
    "            print(f\"Sample filenumber {filenumber} contains no DIFF folder candidate.\")\n",
    "            continue\n",
    "    else:\n",
    "        print(f\"Sample filenumber {filenumber} missing from DIFF folder.\")\n",
    "        continue"
   ]
  },
  {
   "cell_type": "code",
   "execution_count": 36,
   "id": "1c96d6b2-e123-4035-93a0-44283a2e63fc",
   "metadata": {},
   "outputs": [],
   "source": [
    "sliced_dir = \"G:\\\\Data_Booster\\\\data_ETIS_781\\\\DIFF\\\\ALL_Sliced\"\n",
    "\n",
    "for file in os.listdir(diff_781_all_dir):\n",
    "    img_sequence = nib.load(os.path.join(diff_781_all_dir, file))\n",
    "    img_array = img_sequence.get_fdata()[:,:,:,0].astype(\"float32\")\n",
    "    save_array_to_nifti1(img_array, img_sequence, sliced_dir, file)"
   ]
  },
  {
   "cell_type": "code",
   "execution_count": null,
   "id": "8891580c-2e9b-4e6e-9740-edbe75591e82",
   "metadata": {},
   "outputs": [],
   "source": []
  },
  {
   "cell_type": "code",
   "execution_count": 31,
   "id": "06ed9d8a-8ae5-45af-b2e1-2af95d3defdf",
   "metadata": {},
   "outputs": [],
   "source": [
    "def save_array_to_nifti1(array, original_img, destination_path, output_name):\n",
    "    # Transform the array to a nifti image which requires the affine of the original image.\n",
    "    processed_img = nib.Nifti1Image(array, original_img.affine)\n",
    "    nib.save(processed_img, os.path.join(destination_path, output_name))"
   ]
  },
  {
   "cell_type": "code",
   "execution_count": 24,
   "id": "0ddd3e3c-4717-4122-8fd1-c1366ef6bfcd",
   "metadata": {},
   "outputs": [],
   "source": [
    "nib_image = nib.load(\"G:\\\\Data_Booster\\\\ENVOI_DIFF-20240424\\\\2018-104_09-10670-D0MR\\\\DIFF_ALL\\\\2018-104_09-10670-D0MR_201_DIFFUSION_6_DIR_b1000_3.5_MM.nii.gz\")"
   ]
  },
  {
   "cell_type": "code",
   "execution_count": 30,
   "id": "f005b3b5-5b74-4ac5-8496-6c8b5eb08d2d",
   "metadata": {},
   "outputs": [
    {
     "data": {
      "text/plain": [
       "(array([0.00000000e+00, 1.54554331e+00, 3.09108663e+00, ...,\n",
       "        3.40328638e+03, 3.47129028e+03, 3.52074767e+03]),\n",
       " array([464774, 170715,  65019, ...,      1,      1,      1], dtype=int64))"
      ]
     },
     "execution_count": 30,
     "metadata": {},
     "output_type": "execute_result"
    }
   ],
   "source": [
    "np.unique(nib_image.get_fdata()[:,:,:,0], return_counts=True)"
   ]
  },
  {
   "cell_type": "code",
   "execution_count": 34,
   "id": "0b28a314-8b4c-4cda-940f-b78fe1d67230",
   "metadata": {},
   "outputs": [
    {
     "data": {
      "text/plain": [
       "(4, 4)"
      ]
     },
     "execution_count": 34,
     "metadata": {},
     "output_type": "execute_result"
    }
   ],
   "source": [
    "nib_image.affine.shape"
   ]
  },
  {
   "cell_type": "code",
   "execution_count": null,
   "id": "04456e8d-1a30-4e43-bd76-36860c509fa3",
   "metadata": {},
   "outputs": [],
   "source": []
  }
 ],
 "metadata": {
  "kernelspec": {
   "display_name": "Python 3 (ipykernel)",
   "language": "python",
   "name": "python3"
  },
  "language_info": {
   "codemirror_mode": {
    "name": "ipython",
    "version": 3
   },
   "file_extension": ".py",
   "mimetype": "text/x-python",
   "name": "python",
   "nbconvert_exporter": "python",
   "pygments_lexer": "ipython3",
   "version": "3.11.9"
  }
 },
 "nbformat": 4,
 "nbformat_minor": 5
}
