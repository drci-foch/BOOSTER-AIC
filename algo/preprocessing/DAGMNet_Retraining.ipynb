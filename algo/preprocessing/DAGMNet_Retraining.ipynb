{
 "cells": [
  {
   "cell_type": "code",
   "execution_count": 27,
   "id": "3bd97b85-ee77-4305-848c-b05db4a5233e",
   "metadata": {},
   "outputs": [],
   "source": [
    "import scipy\n",
    "import os\n",
    "import numpy as np\n",
    "import nibabel as nib\n",
    "import matplotlib.pyplot as plt\n",
    "import tensorflow\n",
    "import random"
   ]
  },
  {
   "cell_type": "code",
   "execution_count": 6,
   "id": "4faf22d7-3685-4cb8-906e-84865e433693",
   "metadata": {},
   "outputs": [],
   "source": [
    "DAGMNet_ch2_name =  os.path.join(\"D:\\ADS_Algorithm\\ADSv1.3\\data\\Trained_Nets\", 'DAGMNet_CH2.h5')"
   ]
  },
  {
   "cell_type": "code",
   "execution_count": 7,
   "id": "e84ebaab-23c0-4287-87e5-17e6671f4d9c",
   "metadata": {},
   "outputs": [],
   "source": [
    "DAGMNet_ch2 = tensorflow.keras.models.load_model(DAGMNet_ch2_name, compile=False)"
   ]
  },
  {
   "cell_type": "code",
   "execution_count": 8,
   "id": "47775734-7735-482d-acf7-05b0bfdda03b",
   "metadata": {},
   "outputs": [
    {
     "data": {
      "text/plain": [
       "<KerasTensor: shape=(None, 96, 112, 48, 2) dtype=float32 (created by layer 'input_1')>"
      ]
     },
     "execution_count": 8,
     "metadata": {},
     "output_type": "execute_result"
    }
   ],
   "source": [
    "DAGMNet_ch2.input"
   ]
  },
  {
   "cell_type": "code",
   "execution_count": 16,
   "id": "f2774890-4bd9-47f0-8838-221bc1eefd3e",
   "metadata": {},
   "outputs": [],
   "source": [
    "swi_sample_img = nib.load(\"D:\\\\data_processed_ETIS\\\\Resized_Images\\\\DAGMNet_Training\\\\SWI\\\\2018-104_01-10087-D0MR_12_SWI_Images_swi3d1r_SkullStripped_Training_Normalized.nii.gz\")\n",
    "swi_sample_data = swi_sample_img.get_fdata()\n",
    "tof_sample_img = nib.load(\"D:\\\\data_processed_ETIS\\\\Resized_Images\\\\DAGMNet_Training\\\\TOF3D\\\\2018-104_01-10087-D0MR_8_TOF_3D_NEW_wo_ARTEFACTS_fl3d1r_t50_SkullStripped_Training_Normalized.nii.gz\")\n",
    "tof_sample_data = tof_sample_img.get_fdata()"
   ]
  },
  {
   "cell_type": "code",
   "execution_count": 19,
   "id": "29fe109d-6907-4b9f-a59d-a8c5f91eae6a",
   "metadata": {},
   "outputs": [],
   "source": [
    "swi_sample_data = swi_sample_data[:,:,:,np.newaxis]\n",
    "tof_sample_data = tof_sample_data[:,:,:,np.newaxis]"
   ]
  },
  {
   "cell_type": "code",
   "execution_count": 20,
   "id": "03323afb-3252-42e5-9358-788441227212",
   "metadata": {},
   "outputs": [],
   "source": [
    "dagmnet_input = np.expand_dims(np.concatenate((swi_sample_data,tof_sample_data),axis=3), axis=0)"
   ]
  },
  {
   "cell_type": "code",
   "execution_count": 23,
   "id": "36269606-2dbc-4cb3-9f10-366a174be800",
   "metadata": {},
   "outputs": [
    {
     "name": "stdout",
     "output_type": "stream",
     "text": [
      "1/1 [==============================] - 0s 39ms/step\n"
     ]
    }
   ],
   "source": [
    "dagmnet_output = DAGMNet_ch2.predict(dagmnet_input)"
   ]
  },
  {
   "cell_type": "code",
   "execution_count": 32,
   "id": "89c67c05-8ab8-4708-b0fa-1fc532e08c6f",
   "metadata": {},
   "outputs": [],
   "source": [
    "mask_train_dir = \"D:\\\\data_processed_ETIS\\\\Resized_Images\\\\DAGMNet_Training\\\\MASK_Train\"\n",
    "mask_test_dir = \"D:\\\\data_processed_ETIS\\\\Resized_Images\\\\DAGMNet_Training\\\\MASK_Test\"\n",
    "swi_train_dir = \"D:\\\\data_processed_ETIS\\\\Resized_Images\\\\DAGMNet_Training\\\\SWI_Train\"\n",
    "swi_test_dir = \"D:\\\\data_processed_ETIS\\\\Resized_Images\\\\DAGMNet_Training\\\\SWI_Test\"\n",
    "tof_train_dir = \"D:\\\\data_processed_ETIS\\\\Resized_Images\\\\DAGMNet_Training\\\\TOF3D_Train\"\n",
    "tof_test_dir = \"D:\\\\data_processed_ETIS\\\\Resized_Images\\\\DAGMNet_Training\\\\TOF3D_Test\""
   ]
  },
  {
   "cell_type": "code",
   "execution_count": 33,
   "id": "57cdd130-70d0-4de3-89a3-29625925c4c6",
   "metadata": {},
   "outputs": [],
   "source": [
    "random.seed(777)"
   ]
  },
  {
   "cell_type": "code",
   "execution_count": 35,
   "id": "20ed4a98-2fcd-405d-8308-87e45df94d1f",
   "metadata": {},
   "outputs": [],
   "source": [
    "test_indexes = random.sample(range(len(os.listdir(mask_train_dir))), 100)"
   ]
  },
  {
   "cell_type": "code",
   "execution_count": 41,
   "id": "b014755f-e9d0-45f4-a472-a837fe76539b",
   "metadata": {},
   "outputs": [
    {
     "ename": "IndexError",
     "evalue": "list index out of range",
     "output_type": "error",
     "traceback": [
      "\u001b[1;31m---------------------------------------------------------------------------\u001b[0m",
      "\u001b[1;31mIndexError\u001b[0m                                Traceback (most recent call last)",
      "Cell \u001b[1;32mIn[41], line 2\u001b[0m\n\u001b[0;32m      1\u001b[0m \u001b[38;5;28;01mfor\u001b[39;00m index \u001b[38;5;129;01min\u001b[39;00m test_indexes:\n\u001b[1;32m----> 2\u001b[0m     os\u001b[38;5;241m.\u001b[39mrename(os\u001b[38;5;241m.\u001b[39mpath\u001b[38;5;241m.\u001b[39mjoin(mask_train_dir, \u001b[43mos\u001b[49m\u001b[38;5;241;43m.\u001b[39;49m\u001b[43mlistdir\u001b[49m\u001b[43m(\u001b[49m\u001b[43mmask_train_dir\u001b[49m\u001b[43m)\u001b[49m\u001b[43m[\u001b[49m\u001b[43mindex\u001b[49m\u001b[43m]\u001b[49m), os\u001b[38;5;241m.\u001b[39mpath\u001b[38;5;241m.\u001b[39mjoin(mask_test_dir, os\u001b[38;5;241m.\u001b[39mlistdir(mask_train_dir)[index]))\n",
      "\u001b[1;31mIndexError\u001b[0m: list index out of range"
     ]
    }
   ],
   "source": [
    "file_list = [os.listdir(mask_train_dir)[index] for index in yest_indexes]\n",
    "for file in file_list:\n",
    "    os.rename(os.path.join(mask_train_dir, os.listdir(mask_train_dir)[index]), os.path.join(mask_test_dir, os.listdir(mask_train_dir)[index]))"
   ]
  },
  {
   "cell_type": "code",
   "execution_count": 40,
   "id": "152c75af-da9c-46cc-8b0c-ed6f852275c7",
   "metadata": {},
   "outputs": [
    {
     "data": {
      "text/plain": [
       "'D:\\\\data_processed_ETIS\\\\Resized_Images\\\\DAGMNet_Training\\\\MASK_Train\\\\2018-104_02-10634-D0MR_S701_202312051300_Training_Tours-THROMBMICS-Clot-Segmentation.nii.gz'"
      ]
     },
     "execution_count": 40,
     "metadata": {},
     "output_type": "execute_result"
    }
   ],
   "source": [
    "for index in test_indexes:\n",
    "    os.rename(os.path.join(swi_train_dir, os.listdir(swi_train_dir)[index]), os.path.join(swi_test_dir, os.listdir(swi_train_dir)[index]))"
   ]
  },
  {
   "cell_type": "code",
   "execution_count": null,
   "id": "39df046a-e667-48b6-a747-dfa1ffcf4be9",
   "metadata": {},
   "outputs": [],
   "source": [
    "for index in test_indexes:\n",
    "    os.rename(os.path.join(tof_train_dir, os.listdir(tof_train_dir)[index]), os.path.join(tof_test_dir, os.listdir(tof_train_dir)[index]))"
   ]
  },
  {
   "cell_type": "code",
   "execution_count": null,
   "id": "5ae563b2-8e8c-4866-8615-35a46ddb60da",
   "metadata": {},
   "outputs": [],
   "source": []
  }
 ],
 "metadata": {
  "kernelspec": {
   "display_name": "Python 3 (ipykernel)",
   "language": "python",
   "name": "python3"
  },
  "language_info": {
   "codemirror_mode": {
    "name": "ipython",
    "version": 3
   },
   "file_extension": ".py",
   "mimetype": "text/x-python",
   "name": "python",
   "nbconvert_exporter": "python",
   "pygments_lexer": "ipython3",
   "version": "3.10.6"
  }
 },
 "nbformat": 4,
 "nbformat_minor": 5
}
