{
 "cells": [
  {
   "cell_type": "code",
   "execution_count": 1,
   "id": "964f6138-fd56-4901-8b8c-47c6fc7fece7",
   "metadata": {},
   "outputs": [],
   "source": [
    "import nibabel as nib\n",
    "import numpy as np\n",
    "import matplotlib.pyplot as plt\n",
    "import os"
   ]
  },
  {
   "cell_type": "code",
   "execution_count": 19,
   "id": "a2e8e1bf-760c-4e82-ab92-aa6408539a17",
   "metadata": {},
   "outputs": [],
   "source": [
    "mask_dir = \"D:\\\\data_processed_ETIS\\\\Resized_Images\\\\DAGMNet_Training\\\\MASK\"\n",
    "swi_dir = \"D:\\data_processed_ETIS\\Resized_Images\\DAGMNet_Training\\SWI\"\n",
    "tof_dir = \"D:\\data_processed_ETIS\\Resized_Images\\DAGMNet_Training\\TOF3D\""
   ]
  },
  {
   "cell_type": "code",
   "execution_count": 26,
   "id": "e9d4d10e-d7b0-45cf-b590-bfe4d301cbb9",
   "metadata": {},
   "outputs": [],
   "source": [
    "mask_prefixes = [\"_\".join(filename.split(\"_\")[0:2]) for filename in os.listdir(mask_dir)]\n",
    "swi_prefixes = [\"_\".join(filename.split(\"_\")[0:2]) for filename in os.listdir(swi_dir)]\n",
    "tof_prefixes = [\"_\".join(filename.split(\"_\")[0:2]) for filename in os.listdir(tof_dir)]"
   ]
  },
  {
   "cell_type": "code",
   "execution_count": 27,
   "id": "e0d12c9d-868e-4d7d-b817-ab039aeaddde",
   "metadata": {},
   "outputs": [],
   "source": [
    "missing_swi = list(set(mask_prefixes) - set(swi_prefixes))\n",
    "missing_tof = list(set(mask_prefixes) - set(tof_prefixes))"
   ]
  },
  {
   "cell_type": "code",
   "execution_count": 28,
   "id": "2e2020f9-ad40-4e61-acbd-b9cd21caf0c3",
   "metadata": {},
   "outputs": [
    {
     "data": {
      "text/plain": [
       "['2018-104_02-10548-D0MR', '2018-104_09-10648-D0MR', '2018-104_02-10565-D0MR']"
      ]
     },
     "execution_count": 28,
     "metadata": {},
     "output_type": "execute_result"
    }
   ],
   "source": [
    "missing_swi"
   ]
  },
  {
   "cell_type": "code",
   "execution_count": 29,
   "id": "e6a4ed57-f9e7-421a-af65-42d37c05ac73",
   "metadata": {},
   "outputs": [
    {
     "data": {
      "text/plain": [
       "['2018-104_02-10548-D0MR', '2018-104_09-10648-D0MR', '2018-104_02-10565-D0MR']"
      ]
     },
     "execution_count": 29,
     "metadata": {},
     "output_type": "execute_result"
    }
   ],
   "source": [
    "missing_tof"
   ]
  },
  {
   "cell_type": "code",
   "execution_count": null,
   "id": "1ed992f3-da81-4682-980a-49f2f7140e43",
   "metadata": {},
   "outputs": [],
   "source": []
  }
 ],
 "metadata": {
  "kernelspec": {
   "display_name": "Python 3 (ipykernel)",
   "language": "python",
   "name": "python3"
  },
  "language_info": {
   "codemirror_mode": {
    "name": "ipython",
    "version": 3
   },
   "file_extension": ".py",
   "mimetype": "text/x-python",
   "name": "python",
   "nbconvert_exporter": "python",
   "pygments_lexer": "ipython3",
   "version": "3.11.9"
  }
 },
 "nbformat": 4,
 "nbformat_minor": 5
}
