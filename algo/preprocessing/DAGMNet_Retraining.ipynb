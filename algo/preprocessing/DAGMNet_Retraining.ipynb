{
 "cells": [
  {
   "cell_type": "markdown",
   "id": "42b68c4a-9f2b-4a34-b9d5-02e6357f1d42",
   "metadata": {},
   "source": [
    "# Perform Retraining of DAGMNet"
   ]
  },
  {
   "cell_type": "markdown",
   "id": "db44dcbf-5a99-4f62-bd7a-d27e2bec79fd",
   "metadata": {},
   "source": [
    "## Load Model"
   ]
  },
  {
   "cell_type": "code",
   "execution_count": 1,
   "id": "3bd97b85-ee77-4305-848c-b05db4a5233e",
   "metadata": {},
   "outputs": [],
   "source": [
    "import scipy\n",
    "import os\n",
    "import numpy as np\n",
    "import nibabel as nib\n",
    "import matplotlib.pyplot as plt\n",
    "import tensorflow\n",
    "import random"
   ]
  },
  {
   "cell_type": "code",
   "execution_count": 2,
   "id": "4faf22d7-3685-4cb8-906e-84865e433693",
   "metadata": {},
   "outputs": [],
   "source": [
    "DAGMNet_ch2_name =  os.path.join(\"D:\\ADS_Algorithm\\ADSv1.3\\data\\Trained_Nets\", 'DAGMNet_CH2.h5')"
   ]
  },
  {
   "cell_type": "code",
   "execution_count": 3,
   "id": "e84ebaab-23c0-4287-87e5-17e6671f4d9c",
   "metadata": {},
   "outputs": [],
   "source": [
    "DAGMNet_ch2 = tensorflow.keras.models.load_model(DAGMNet_ch2_name, compile=False)"
   ]
  },
  {
   "cell_type": "code",
   "execution_count": 4,
   "id": "47775734-7735-482d-acf7-05b0bfdda03b",
   "metadata": {},
   "outputs": [
    {
     "data": {
      "text/plain": [
       "<KerasTensor: shape=(None, 96, 112, 48, 2) dtype=float32 (created by layer 'input_1')>"
      ]
     },
     "execution_count": 4,
     "metadata": {},
     "output_type": "execute_result"
    }
   ],
   "source": [
    "DAGMNet_ch2.input"
   ]
  },
  {
   "cell_type": "code",
   "execution_count": 5,
   "id": "f2774890-4bd9-47f0-8838-221bc1eefd3e",
   "metadata": {},
   "outputs": [],
   "source": [
    "swi_sample_img = nib.load(\"D:\\\\data_processed_ETIS\\\\Resized_Images\\\\DAGMNet_Training\\\\SWI_Train\\\\2018-104_01-10113-D0MR_9_Ax_T2_GRE__SkullStripped_Training_Normalized.nii.gz\")\n",
    "swi_sample_data = swi_sample_img.get_fdata()\n",
    "tof_sample_img = nib.load(\"D:\\\\data_processed_ETIS\\\\Resized_Images\\\\DAGMNet_Training\\\\TOF3D_Train\\\\2018-104_01-10113-D0MR_6_3D_TOF_LARGE__SkullStripped_Training_Normalized.nii.gz\")\n",
    "tof_sample_data = tof_sample_img.get_fdata()"
   ]
  },
  {
   "cell_type": "code",
   "execution_count": 6,
   "id": "29fe109d-6907-4b9f-a59d-a8c5f91eae6a",
   "metadata": {},
   "outputs": [],
   "source": [
    "swi_sample_data = swi_sample_data[:,:,:,np.newaxis]\n",
    "tof_sample_data = tof_sample_data[:,:,:,np.newaxis]"
   ]
  },
  {
   "cell_type": "code",
   "execution_count": 7,
   "id": "03323afb-3252-42e5-9358-788441227212",
   "metadata": {},
   "outputs": [],
   "source": [
    "dagmnet_input = np.expand_dims(np.concatenate((swi_sample_data,tof_sample_data),axis=3), axis=0)"
   ]
  },
  {
   "cell_type": "code",
   "execution_count": 8,
   "id": "36269606-2dbc-4cb3-9f10-366a174be800",
   "metadata": {},
   "outputs": [
    {
     "name": "stdout",
     "output_type": "stream",
     "text": [
      "1/1 [==============================] - 5s 5s/step\n"
     ]
    }
   ],
   "source": [
    "dagmnet_output = DAGMNet_ch2.predict(dagmnet_input)"
   ]
  },
  {
   "cell_type": "code",
   "execution_count": 49,
   "id": "abd5ddea-56e0-485f-89a7-0d9b1beee751",
   "metadata": {
    "scrolled": true
   },
   "outputs": [
    {
     "name": "stdout",
     "output_type": "stream",
     "text": [
      "Model: \"model\"\n",
      "__________________________________________________________________________________________________\n",
      " Layer (type)                   Output Shape         Param #     Connected to                     \n",
      "==================================================================================================\n",
      " input_1 (InputLayer)           [(None, 96, 112, 48  0           []                               \n",
      "                                , 2)]                                                             \n",
      "                                                                                                  \n",
      " conv3d (Conv3D)                (None, 96, 112, 48,  1760        ['input_1[0][0]']                \n",
      "                                 32)                                                              \n",
      "                                                                                                  \n",
      " tf_op_layer_strided_slice (Ten  (None, 48, 56, 24,   0          ['input_1[0][0]']                \n",
      " sorFlowOpLayer)                2)                                                                \n",
      "                                                                                                  \n",
      " batch_normalization (BatchNorm  (None, 96, 112, 48,  128        ['conv3d[0][0]']                 \n",
      " alization)                      32)                                                              \n",
      "                                                                                                  \n",
      " conv3d_2 (Conv3D)              (None, 48, 56, 24,   1760        ['tf_op_layer_strided_slice[0][0]\n",
      "                                32)                              ']                               \n",
      "                                                                                                  \n",
      " activation (Activation)        (None, 96, 112, 48,  0           ['batch_normalization[0][0]']    \n",
      "                                 32)                                                              \n",
      "                                                                                                  \n",
      " batch_normalization_2 (BatchNo  (None, 48, 56, 24,   128        ['conv3d_2[0][0]']               \n",
      " rmalization)                   32)                                                               \n",
      "                                                                                                  \n",
      " conv3d_1 (Conv3D)              (None, 96, 112, 48,  27680       ['activation[0][0]']             \n",
      "                                 32)                                                              \n",
      "                                                                                                  \n",
      " activation_2 (Activation)      (None, 48, 56, 24,   0           ['batch_normalization_2[0][0]']  \n",
      "                                32)                                                               \n",
      "                                                                                                  \n",
      " batch_normalization_1 (BatchNo  (None, 96, 112, 48,  128        ['conv3d_1[0][0]']               \n",
      " rmalization)                    32)                                                              \n",
      "                                                                                                  \n",
      " conv3d_3 (Conv3D)              (None, 48, 56, 24,   27680       ['activation_2[0][0]']           \n",
      "                                32)                                                               \n",
      "                                                                                                  \n",
      " activation_1 (Activation)      (None, 96, 112, 48,  0           ['batch_normalization_1[0][0]']  \n",
      "                                 32)                                                              \n",
      "                                                                                                  \n",
      " batch_normalization_3 (BatchNo  (None, 48, 56, 24,   128        ['conv3d_3[0][0]']               \n",
      " rmalization)                   32)                                                               \n",
      "                                                                                                  \n",
      " max_pooling3d (MaxPooling3D)   (None, 48, 56, 24,   0           ['activation_1[0][0]']           \n",
      "                                32)                                                               \n",
      "                                                                                                  \n",
      " activation_3 (Activation)      (None, 48, 56, 24,   0           ['batch_normalization_3[0][0]']  \n",
      "                                32)                                                               \n",
      "                                                                                                  \n",
      " concatenate (Concatenate)      (None, 48, 56, 24,   0           ['max_pooling3d[0][0]',          \n",
      "                                64)                               'activation_3[0][0]']           \n",
      "                                                                                                  \n",
      " conv3d_8 (Conv3D)              (None, 48, 56, 24,   110656      ['concatenate[0][0]']            \n",
      "                                64)                                                               \n",
      "                                                                                                  \n",
      " batch_normalization_8 (BatchNo  (None, 48, 56, 24,   256        ['conv3d_8[0][0]']               \n",
      " rmalization)                   64)                                                               \n",
      "                                                                                                  \n",
      " activation_8 (Activation)      (None, 48, 56, 24,   0           ['batch_normalization_8[0][0]']  \n",
      "                                64)                                                               \n",
      "                                                                                                  \n",
      " conv3d_9 (Conv3D)              (None, 48, 56, 24,   110656      ['activation_8[0][0]']           \n",
      "                                64)                                                               \n",
      "                                                                                                  \n",
      " batch_normalization_9 (BatchNo  (None, 48, 56, 24,   256        ['conv3d_9[0][0]']               \n",
      " rmalization)                   64)                                                               \n",
      "                                                                                                  \n",
      " activation_9 (Activation)      (None, 48, 56, 24,   0           ['batch_normalization_9[0][0]']  \n",
      "                                64)                                                               \n",
      "                                                                                                  \n",
      " max_pooling3d_1 (MaxPooling3D)  (None, 24, 28, 12,   0          ['activation_9[0][0]']           \n",
      "                                64)                                                               \n",
      "                                                                                                  \n",
      " conv3d_10 (Conv3D)             (None, 24, 28, 12,   221312      ['max_pooling3d_1[0][0]']        \n",
      "                                128)                                                              \n",
      "                                                                                                  \n",
      " batch_normalization_10 (BatchN  (None, 24, 28, 12,   512        ['conv3d_10[0][0]']              \n",
      " ormalization)                  128)                                                              \n",
      "                                                                                                  \n",
      " activation_10 (Activation)     (None, 24, 28, 12,   0           ['batch_normalization_10[0][0]'] \n",
      "                                128)                                                              \n",
      "                                                                                                  \n",
      " conv3d_11 (Conv3D)             (None, 24, 28, 12,   442496      ['activation_10[0][0]']          \n",
      "                                128)                                                              \n",
      "                                                                                                  \n",
      " batch_normalization_11 (BatchN  (None, 24, 28, 12,   512        ['conv3d_11[0][0]']              \n",
      " ormalization)                  128)                                                              \n",
      "                                                                                                  \n",
      " activation_11 (Activation)     (None, 24, 28, 12,   0           ['batch_normalization_11[0][0]'] \n",
      "                                128)                                                              \n",
      "                                                                                                  \n",
      " max_pooling3d_2 (MaxPooling3D)  (None, 12, 14, 6, 1  0          ['activation_11[0][0]']          \n",
      "                                28)                                                               \n",
      "                                                                                                  \n",
      " tf_op_layer_strided_slice_2 (T  (None, 12, 14, 6, 2  0          ['input_1[0][0]']                \n",
      " ensorFlowOpLayer)              )                                                                 \n",
      "                                                                                                  \n",
      " conv3d_12 (Conv3D)             (None, 12, 14, 6, 2  884992      ['max_pooling3d_2[0][0]']        \n",
      "                                56)                                                               \n",
      "                                                                                                  \n",
      " conv3d_6 (Conv3D)              (None, 12, 14, 6, 3  1760        ['tf_op_layer_strided_slice_2[0][\n",
      "                                2)                               0]']                             \n",
      "                                                                                                  \n",
      " batch_normalization_12 (BatchN  (None, 12, 14, 6, 2  1024       ['conv3d_12[0][0]']              \n",
      " ormalization)                  56)                                                               \n",
      "                                                                                                  \n",
      " batch_normalization_6 (BatchNo  (None, 12, 14, 6, 3  128        ['conv3d_6[0][0]']               \n",
      " rmalization)                   2)                                                                \n",
      "                                                                                                  \n",
      " activation_12 (Activation)     (None, 12, 14, 6, 2  0           ['batch_normalization_12[0][0]'] \n",
      "                                56)                                                               \n",
      "                                                                                                  \n",
      " activation_6 (Activation)      (None, 12, 14, 6, 3  0           ['batch_normalization_6[0][0]']  \n",
      "                                2)                                                                \n",
      "                                                                                                  \n",
      " conv3d_13 (Conv3D)             (None, 12, 14, 6, 2  1769728     ['activation_12[0][0]']          \n",
      "                                56)                                                               \n",
      "                                                                                                  \n",
      " conv3d_7 (Conv3D)              (None, 12, 14, 6, 3  27680       ['activation_6[0][0]']           \n",
      "                                2)                                                                \n",
      "                                                                                                  \n",
      " batch_normalization_13 (BatchN  (None, 12, 14, 6, 2  1024       ['conv3d_13[0][0]']              \n",
      " ormalization)                  56)                                                               \n",
      "                                                                                                  \n",
      " batch_normalization_7 (BatchNo  (None, 12, 14, 6, 3  128        ['conv3d_7[0][0]']               \n",
      " rmalization)                   2)                                                                \n",
      "                                                                                                  \n",
      " activation_13 (Activation)     (None, 12, 14, 6, 2  0           ['batch_normalization_13[0][0]'] \n",
      "                                56)                                                               \n",
      "                                                                                                  \n",
      " activation_7 (Activation)      (None, 12, 14, 6, 3  0           ['batch_normalization_7[0][0]']  \n",
      "                                2)                                                                \n",
      "                                                                                                  \n",
      " tf_op_layer_strided_slice_1 (T  (None, 24, 28, 12,   0          ['input_1[0][0]']                \n",
      " ensorFlowOpLayer)              2)                                                                \n",
      "                                                                                                  \n",
      " reshape (Reshape)              (None, 1008, 256)    0           ['activation_13[0][0]']          \n",
      "                                                                                                  \n",
      " reshape_3 (Reshape)            (None, 1008, 32)     0           ['activation_7[0][0]']           \n",
      "                                                                                                  \n",
      " conv3d_4 (Conv3D)              (None, 24, 28, 12,   1760        ['tf_op_layer_strided_slice_1[0][\n",
      "                                32)                              0]']                             \n",
      "                                                                                                  \n",
      " global_average_pooling1d (Glob  (None, 1008)        0           ['reshape[0][0]']                \n",
      " alAveragePooling1D)                                                                              \n",
      "                                                                                                  \n",
      " global_max_pooling1d (GlobalMa  (None, 1008)        0           ['reshape[0][0]']                \n",
      " xPooling1D)                                                                                      \n",
      "                                                                                                  \n",
      " global_average_pooling1d_1 (Gl  (None, 1008)        0           ['reshape_3[0][0]']              \n",
      " obalAveragePooling1D)                                                                            \n",
      "                                                                                                  \n",
      " global_max_pooling1d_1 (Global  (None, 1008)        0           ['reshape_3[0][0]']              \n",
      " MaxPooling1D)                                                                                    \n",
      "                                                                                                  \n",
      " batch_normalization_4 (BatchNo  (None, 24, 28, 12,   128        ['conv3d_4[0][0]']               \n",
      " rmalization)                   32)                                                               \n",
      "                                                                                                  \n",
      " reshape_1 (Reshape)            (None, 12, 14, 6, 1  0           ['global_average_pooling1d[0][0]'\n",
      "                                )                                ]                                \n",
      "                                                                                                  \n",
      " reshape_2 (Reshape)            (None, 12, 14, 6, 1  0           ['global_max_pooling1d[0][0]']   \n",
      "                                )                                                                 \n",
      "                                                                                                  \n",
      " conv3d_14 (Conv3D)             (None, 12, 14, 6, 1  257         ['activation_13[0][0]']          \n",
      "                                )                                                                 \n",
      "                                                                                                  \n",
      " reshape_4 (Reshape)            (None, 12, 14, 6, 1  0           ['global_average_pooling1d_1[0][0\n",
      "                                )                                ]']                              \n",
      "                                                                                                  \n",
      " reshape_5 (Reshape)            (None, 12, 14, 6, 1  0           ['global_max_pooling1d_1[0][0]'] \n",
      "                                )                                                                 \n",
      "                                                                                                  \n",
      " conv3d_15 (Conv3D)             (None, 12, 14, 6, 1  33          ['activation_7[0][0]']           \n",
      "                                )                                                                 \n",
      "                                                                                                  \n",
      " global_average_pooling3d (Glob  (None, 256)         0           ['activation_13[0][0]']          \n",
      " alAveragePooling3D)                                                                              \n",
      "                                                                                                  \n",
      " global_max_pooling3d (GlobalMa  (None, 256)         0           ['activation_13[0][0]']          \n",
      " xPooling3D)                                                                                      \n",
      "                                                                                                  \n",
      " global_average_pooling3d_1 (Gl  (None, 32)          0           ['activation_7[0][0]']           \n",
      " obalAveragePooling3D)                                                                            \n",
      "                                                                                                  \n",
      " global_max_pooling3d_1 (Global  (None, 32)          0           ['activation_7[0][0]']           \n",
      " MaxPooling3D)                                                                                    \n",
      "                                                                                                  \n",
      " activation_4 (Activation)      (None, 24, 28, 12,   0           ['batch_normalization_4[0][0]']  \n",
      "                                32)                                                               \n",
      "                                                                                                  \n",
      " concatenate_3 (Concatenate)    (None, 12, 14, 6, 3  0           ['reshape_1[0][0]',              \n",
      "                                )                                 'reshape_2[0][0]',              \n",
      "                                                                  'conv3d_14[0][0]']              \n",
      "                                                                                                  \n",
      " concatenate_4 (Concatenate)    (None, 12, 14, 6, 3  0           ['reshape_4[0][0]',              \n",
      "                                )                                 'reshape_5[0][0]',              \n",
      "                                                                  'conv3d_15[0][0]']              \n",
      "                                                                                                  \n",
      " dense (Dense)                  (None, 16)           4112        ['global_average_pooling3d[0][0]'\n",
      "                                                                 ]                                \n",
      "                                                                                                  \n",
      " dense_1 (Dense)                (None, 16)           4112        ['global_max_pooling3d[0][0]']   \n",
      "                                                                                                  \n",
      " dense_2 (Dense)                (None, 16)           528         ['global_average_pooling3d_1[0][0\n",
      "                                                                 ]']                              \n",
      "                                                                                                  \n",
      " dense_3 (Dense)                (None, 16)           528         ['global_max_pooling3d_1[0][0]'] \n",
      "                                                                                                  \n",
      " conv3d_5 (Conv3D)              (None, 24, 28, 12,   27680       ['activation_4[0][0]']           \n",
      "                                32)                                                               \n",
      "                                                                                                  \n",
      " conv3d_16 (Conv3D)             (None, 12, 14, 6, 1  376         ['concatenate_3[0][0]']          \n",
      "                                )                                                                 \n",
      "                                                                                                  \n",
      " conv3d_17 (Conv3D)             (None, 12, 14, 6, 1  376         ['concatenate_4[0][0]']          \n",
      "                                )                                                                 \n",
      "                                                                                                  \n",
      " tf_op_layer_add_1 (TensorFlowO  (None, 16)          0           ['dense[0][0]',                  \n",
      " pLayer)                                                          'dense_1[0][0]']                \n",
      "                                                                                                  \n",
      " tf_op_layer_add_2 (TensorFlowO  (None, 16)          0           ['dense_2[0][0]',                \n",
      " pLayer)                                                          'dense_3[0][0]']                \n",
      "                                                                                                  \n",
      " batch_normalization_5 (BatchNo  (None, 24, 28, 12,   128        ['conv3d_5[0][0]']               \n",
      " rmalization)                   32)                                                               \n",
      "                                                                                                  \n",
      " tf_op_layer_add (TensorFlowOpL  (None, 12, 14, 6, 1  0          ['conv3d_16[0][0]',              \n",
      " ayer)                          )                                 'conv3d_17[0][0]']              \n",
      "                                                                                                  \n",
      " tf_op_layer_add_3 (TensorFlowO  (None, 16)          0           ['tf_op_layer_add_1[0][0]',      \n",
      " pLayer)                                                          'tf_op_layer_add_2[0][0]']      \n",
      "                                                                                                  \n",
      " activation_5 (Activation)      (None, 24, 28, 12,   0           ['batch_normalization_5[0][0]']  \n",
      "                                32)                                                               \n",
      "                                                                                                  \n",
      " conv3d_18 (Conv3D)             (None, 12, 14, 6, 1  2           ['tf_op_layer_add[0][0]']        \n",
      "                                )                                                                 \n",
      "                                                                                                  \n",
      " dense_4 (Dense)                (None, 256)          4352        ['tf_op_layer_add_3[0][0]']      \n",
      "                                                                                                  \n",
      " reshape_6 (Reshape)            (None, 8064, 128)    0           ['activation_11[0][0]']          \n",
      "                                                                                                  \n",
      " reshape_9 (Reshape)            (None, 8064, 32)     0           ['activation_5[0][0]']           \n",
      "                                                                                                  \n",
      " tf_op_layer_mul (TensorFlowOpL  (None, 12, 14, 6, 2  0          ['activation_13[0][0]',          \n",
      " ayer)                          56)                               'conv3d_18[0][0]']              \n",
      "                                                                                                  \n",
      " dense_5 (Dense)                (None, 256)          65792       ['dense_4[0][0]']                \n",
      "                                                                                                  \n",
      " global_average_pooling1d_2 (Gl  (None, 8064)        0           ['reshape_6[0][0]']              \n",
      " obalAveragePooling1D)                                                                            \n",
      "                                                                                                  \n",
      " global_max_pooling1d_2 (Global  (None, 8064)        0           ['reshape_6[0][0]']              \n",
      " MaxPooling1D)                                                                                    \n",
      "                                                                                                  \n",
      " global_average_pooling1d_3 (Gl  (None, 8064)        0           ['reshape_9[0][0]']              \n",
      " obalAveragePooling1D)                                                                            \n",
      "                                                                                                  \n",
      " global_max_pooling1d_3 (Global  (None, 8064)        0           ['reshape_9[0][0]']              \n",
      " MaxPooling1D)                                                                                    \n",
      "                                                                                                  \n",
      " multiply (Multiply)            (None, 12, 14, 6, 2  0           ['tf_op_layer_mul[0][0]',        \n",
      "                                56)                               'dense_5[0][0]']                \n",
      "                                                                                                  \n",
      " reshape_7 (Reshape)            (None, 24, 28, 12,   0           ['global_average_pooling1d_2[0][0\n",
      "                                1)                               ]']                              \n",
      "                                                                                                  \n",
      " reshape_8 (Reshape)            (None, 24, 28, 12,   0           ['global_max_pooling1d_2[0][0]'] \n",
      "                                1)                                                                \n",
      "                                                                                                  \n",
      " conv3d_22 (Conv3D)             (None, 24, 28, 12,   129         ['activation_11[0][0]']          \n",
      "                                1)                                                                \n",
      "                                                                                                  \n",
      " reshape_10 (Reshape)           (None, 24, 28, 12,   0           ['global_average_pooling1d_3[0][0\n",
      "                                1)                               ]']                              \n",
      "                                                                                                  \n",
      " reshape_11 (Reshape)           (None, 24, 28, 12,   0           ['global_max_pooling1d_3[0][0]'] \n",
      "                                1)                                                                \n",
      "                                                                                                  \n",
      " conv3d_23 (Conv3D)             (None, 24, 28, 12,   33          ['activation_5[0][0]']           \n",
      "                                1)                                                                \n",
      "                                                                                                  \n",
      " global_average_pooling3d_2 (Gl  (None, 128)         0           ['activation_11[0][0]']          \n",
      " obalAveragePooling3D)                                                                            \n",
      "                                                                                                  \n",
      " global_max_pooling3d_2 (Global  (None, 128)         0           ['activation_11[0][0]']          \n",
      " MaxPooling3D)                                                                                    \n",
      "                                                                                                  \n",
      " global_average_pooling3d_3 (Gl  (None, 32)          0           ['activation_5[0][0]']           \n",
      " obalAveragePooling3D)                                                                            \n",
      "                                                                                                  \n",
      " global_max_pooling3d_3 (Global  (None, 32)          0           ['activation_5[0][0]']           \n",
      " MaxPooling3D)                                                                                    \n",
      "                                                                                                  \n",
      " conv3d_19 (Conv3D)             (None, 12, 14, 6, 2  1769728     ['multiply[0][0]']               \n",
      "                                56)                                                               \n",
      "                                                                                                  \n",
      " concatenate_5 (Concatenate)    (None, 24, 28, 12,   0           ['reshape_7[0][0]',              \n",
      "                                3)                                'reshape_8[0][0]',              \n",
      "                                                                  'conv3d_22[0][0]']              \n",
      "                                                                                                  \n",
      " concatenate_6 (Concatenate)    (None, 24, 28, 12,   0           ['reshape_10[0][0]',             \n",
      "                                3)                                'reshape_11[0][0]',             \n",
      "                                                                  'conv3d_23[0][0]']              \n",
      "                                                                                                  \n",
      " dense_6 (Dense)                (None, 8)            1032        ['global_average_pooling3d_2[0][0\n",
      "                                                                 ]']                              \n",
      "                                                                                                  \n",
      " dense_7 (Dense)                (None, 8)            1032        ['global_max_pooling3d_2[0][0]'] \n",
      "                                                                                                  \n",
      " dense_8 (Dense)                (None, 8)            264         ['global_average_pooling3d_3[0][0\n",
      "                                                                 ]']                              \n",
      "                                                                                                  \n",
      " dense_9 (Dense)                (None, 8)            264         ['global_max_pooling3d_3[0][0]'] \n",
      "                                                                                                  \n",
      " batch_normalization_14 (BatchN  (None, 12, 14, 6, 2  1024       ['conv3d_19[0][0]']              \n",
      " ormalization)                  56)                                                               \n",
      "                                                                                                  \n",
      " conv3d_24 (Conv3D)             (None, 24, 28, 12,   376         ['concatenate_5[0][0]']          \n",
      "                                1)                                                                \n",
      "                                                                                                  \n",
      " conv3d_25 (Conv3D)             (None, 24, 28, 12,   376         ['concatenate_6[0][0]']          \n",
      "                                1)                                                                \n",
      "                                                                                                  \n",
      " tf_op_layer_add_5 (TensorFlowO  (None, 8)           0           ['dense_6[0][0]',                \n",
      " pLayer)                                                          'dense_7[0][0]']                \n",
      "                                                                                                  \n",
      " tf_op_layer_add_6 (TensorFlowO  (None, 8)           0           ['dense_8[0][0]',                \n",
      " pLayer)                                                          'dense_9[0][0]']                \n",
      "                                                                                                  \n",
      " activation_14 (Activation)     (None, 12, 14, 6, 2  0           ['batch_normalization_14[0][0]'] \n",
      "                                56)                                                               \n",
      "                                                                                                  \n",
      " tf_op_layer_add_4 (TensorFlowO  (None, 24, 28, 12,   0          ['conv3d_24[0][0]',              \n",
      " pLayer)                        1)                                'conv3d_25[0][0]']              \n",
      "                                                                                                  \n",
      " tf_op_layer_add_7 (TensorFlowO  (None, 8)           0           ['tf_op_layer_add_5[0][0]',      \n",
      " pLayer)                                                          'tf_op_layer_add_6[0][0]']      \n",
      "                                                                                                  \n",
      " conv3d_20 (Conv3D)             (None, 12, 14, 6, 2  1769728     ['activation_14[0][0]']          \n",
      "                                56)                                                               \n",
      "                                                                                                  \n",
      " conv3d_26 (Conv3D)             (None, 24, 28, 12,   2           ['tf_op_layer_add_4[0][0]']      \n",
      "                                1)                                                                \n",
      "                                                                                                  \n",
      " dense_10 (Dense)               (None, 128)          1152        ['tf_op_layer_add_7[0][0]']      \n",
      "                                                                                                  \n",
      " batch_normalization_15 (BatchN  (None, 12, 14, 6, 2  1024       ['conv3d_20[0][0]']              \n",
      " ormalization)                  56)                                                               \n",
      "                                                                                                  \n",
      " tf_op_layer_mul_1 (TensorFlowO  (None, 24, 28, 12,   0          ['activation_11[0][0]',          \n",
      " pLayer)                        128)                              'conv3d_26[0][0]']              \n",
      "                                                                                                  \n",
      " dense_11 (Dense)               (None, 128)          16512       ['dense_10[0][0]']               \n",
      "                                                                                                  \n",
      " activation_15 (Activation)     (None, 12, 14, 6, 2  0           ['batch_normalization_15[0][0]'] \n",
      "                                56)                                                               \n",
      "                                                                                                  \n",
      " reshape_12 (Reshape)           (None, 64512, 64)    0           ['activation_9[0][0]']           \n",
      "                                                                                                  \n",
      " reshape_15 (Reshape)           (None, 64512, 32)    0           ['activation_3[0][0]']           \n",
      "                                                                                                  \n",
      " multiply_1 (Multiply)          (None, 24, 28, 12,   0           ['tf_op_layer_mul_1[0][0]',      \n",
      "                                128)                              'dense_11[0][0]']               \n",
      "                                                                                                  \n",
      " conv3d_transpose (Conv3DTransp  (None, 24, 28, 12,   884864     ['activation_15[0][0]']          \n",
      " ose)                           128)                                                              \n",
      "                                                                                                  \n",
      " global_average_pooling1d_4 (Gl  (None, 64512)       0           ['reshape_12[0][0]']             \n",
      " obalAveragePooling1D)                                                                            \n",
      "                                                                                                  \n",
      " global_max_pooling1d_4 (Global  (None, 64512)       0           ['reshape_12[0][0]']             \n",
      " MaxPooling1D)                                                                                    \n",
      "                                                                                                  \n",
      " global_average_pooling1d_5 (Gl  (None, 64512)       0           ['reshape_15[0][0]']             \n",
      " obalAveragePooling1D)                                                                            \n",
      "                                                                                                  \n",
      " global_max_pooling1d_5 (Global  (None, 64512)       0           ['reshape_15[0][0]']             \n",
      " MaxPooling1D)                                                                                    \n",
      "                                                                                                  \n",
      " concatenate_7 (Concatenate)    (None, 24, 28, 12,   0           ['multiply_1[0][0]',             \n",
      "                                256)                              'conv3d_transpose[0][0]']       \n",
      "                                                                                                  \n",
      " reshape_13 (Reshape)           (None, 48, 56, 24,   0           ['global_average_pooling1d_4[0][0\n",
      "                                1)                               ]']                              \n",
      "                                                                                                  \n",
      " reshape_14 (Reshape)           (None, 48, 56, 24,   0           ['global_max_pooling1d_4[0][0]'] \n",
      "                                1)                                                                \n",
      "                                                                                                  \n",
      " conv3d_30 (Conv3D)             (None, 48, 56, 24,   65          ['activation_9[0][0]']           \n",
      "                                1)                                                                \n",
      "                                                                                                  \n",
      " reshape_16 (Reshape)           (None, 48, 56, 24,   0           ['global_average_pooling1d_5[0][0\n",
      "                                1)                               ]']                              \n",
      "                                                                                                  \n",
      " reshape_17 (Reshape)           (None, 48, 56, 24,   0           ['global_max_pooling1d_5[0][0]'] \n",
      "                                1)                                                                \n",
      "                                                                                                  \n",
      " conv3d_31 (Conv3D)             (None, 48, 56, 24,   33          ['activation_3[0][0]']           \n",
      "                                1)                                                                \n",
      "                                                                                                  \n",
      " global_average_pooling3d_4 (Gl  (None, 64)          0           ['activation_9[0][0]']           \n",
      " obalAveragePooling3D)                                                                            \n",
      "                                                                                                  \n",
      " global_max_pooling3d_4 (Global  (None, 64)          0           ['activation_9[0][0]']           \n",
      " MaxPooling3D)                                                                                    \n",
      "                                                                                                  \n",
      " global_average_pooling3d_5 (Gl  (None, 32)          0           ['activation_3[0][0]']           \n",
      " obalAveragePooling3D)                                                                            \n",
      "                                                                                                  \n",
      " global_max_pooling3d_5 (Global  (None, 32)          0           ['activation_3[0][0]']           \n",
      " MaxPooling3D)                                                                                    \n",
      "                                                                                                  \n",
      " conv3d_27 (Conv3D)             (None, 24, 28, 12,   884864      ['concatenate_7[0][0]']          \n",
      "                                128)                                                              \n",
      "                                                                                                  \n",
      " concatenate_8 (Concatenate)    (None, 48, 56, 24,   0           ['reshape_13[0][0]',             \n",
      "                                3)                                'reshape_14[0][0]',             \n",
      "                                                                  'conv3d_30[0][0]']              \n",
      "                                                                                                  \n",
      " concatenate_9 (Concatenate)    (None, 48, 56, 24,   0           ['reshape_16[0][0]',             \n",
      "                                3)                                'reshape_17[0][0]',             \n",
      "                                                                  'conv3d_31[0][0]']              \n",
      "                                                                                                  \n",
      " dense_12 (Dense)               (None, 4)            260         ['global_average_pooling3d_4[0][0\n",
      "                                                                 ]']                              \n",
      "                                                                                                  \n",
      " dense_13 (Dense)               (None, 4)            260         ['global_max_pooling3d_4[0][0]'] \n",
      "                                                                                                  \n",
      " dense_14 (Dense)               (None, 4)            132         ['global_average_pooling3d_5[0][0\n",
      "                                                                 ]']                              \n",
      "                                                                                                  \n",
      " dense_15 (Dense)               (None, 4)            132         ['global_max_pooling3d_5[0][0]'] \n",
      "                                                                                                  \n",
      " batch_normalization_16 (BatchN  (None, 24, 28, 12,   512        ['conv3d_27[0][0]']              \n",
      " ormalization)                  128)                                                              \n",
      "                                                                                                  \n",
      " conv3d_32 (Conv3D)             (None, 48, 56, 24,   376         ['concatenate_8[0][0]']          \n",
      "                                1)                                                                \n",
      "                                                                                                  \n",
      " conv3d_33 (Conv3D)             (None, 48, 56, 24,   376         ['concatenate_9[0][0]']          \n",
      "                                1)                                                                \n",
      "                                                                                                  \n",
      " tf_op_layer_add_9 (TensorFlowO  (None, 4)           0           ['dense_12[0][0]',               \n",
      " pLayer)                                                          'dense_13[0][0]']               \n",
      "                                                                                                  \n",
      " tf_op_layer_add_10 (TensorFlow  (None, 4)           0           ['dense_14[0][0]',               \n",
      " OpLayer)                                                         'dense_15[0][0]']               \n",
      "                                                                                                  \n",
      " activation_16 (Activation)     (None, 24, 28, 12,   0           ['batch_normalization_16[0][0]'] \n",
      "                                128)                                                              \n",
      "                                                                                                  \n",
      " tf_op_layer_add_8 (TensorFlowO  (None, 48, 56, 24,   0          ['conv3d_32[0][0]',              \n",
      " pLayer)                        1)                                'conv3d_33[0][0]']              \n",
      "                                                                                                  \n",
      " tf_op_layer_add_11 (TensorFlow  (None, 4)           0           ['tf_op_layer_add_9[0][0]',      \n",
      " OpLayer)                                                         'tf_op_layer_add_10[0][0]']     \n",
      "                                                                                                  \n",
      " conv3d_28 (Conv3D)             (None, 24, 28, 12,   442496      ['activation_16[0][0]']          \n",
      "                                128)                                                              \n",
      "                                                                                                  \n",
      " conv3d_34 (Conv3D)             (None, 48, 56, 24,   2           ['tf_op_layer_add_8[0][0]']      \n",
      "                                1)                                                                \n",
      "                                                                                                  \n",
      " dense_16 (Dense)               (None, 64)           320         ['tf_op_layer_add_11[0][0]']     \n",
      "                                                                                                  \n",
      " batch_normalization_17 (BatchN  (None, 24, 28, 12,   512        ['conv3d_28[0][0]']              \n",
      " ormalization)                  128)                                                              \n",
      "                                                                                                  \n",
      " tf_op_layer_mul_2 (TensorFlowO  (None, 48, 56, 24,   0          ['activation_9[0][0]',           \n",
      " pLayer)                        64)                               'conv3d_34[0][0]']              \n",
      "                                                                                                  \n",
      " dense_17 (Dense)               (None, 64)           4160        ['dense_16[0][0]']               \n",
      "                                                                                                  \n",
      " activation_17 (Activation)     (None, 24, 28, 12,   0           ['batch_normalization_17[0][0]'] \n",
      "                                128)                                                              \n",
      "                                                                                                  \n",
      " reshape_18 (Reshape)           (None, 516096, 32)   0           ['activation_1[0][0]']           \n",
      "                                                                                                  \n",
      " reshape_21 (Reshape)           (None, 516096, 32)   0           ['activation_1[0][0]']           \n",
      "                                                                                                  \n",
      " multiply_2 (Multiply)          (None, 48, 56, 24,   0           ['tf_op_layer_mul_2[0][0]',      \n",
      "                                64)                               'dense_17[0][0]']               \n",
      "                                                                                                  \n",
      " conv3d_transpose_3 (Conv3DTran  (None, 48, 56, 24,   221248     ['activation_17[0][0]']          \n",
      " spose)                         64)                                                               \n",
      "                                                                                                  \n",
      " global_average_pooling1d_6 (Gl  (None, 516096)      0           ['reshape_18[0][0]']             \n",
      " obalAveragePooling1D)                                                                            \n",
      "                                                                                                  \n",
      " global_max_pooling1d_6 (Global  (None, 516096)      0           ['reshape_18[0][0]']             \n",
      " MaxPooling1D)                                                                                    \n",
      "                                                                                                  \n",
      " global_average_pooling1d_7 (Gl  (None, 516096)      0           ['reshape_21[0][0]']             \n",
      " obalAveragePooling1D)                                                                            \n",
      "                                                                                                  \n",
      " global_max_pooling1d_7 (Global  (None, 516096)      0           ['reshape_21[0][0]']             \n",
      " MaxPooling1D)                                                                                    \n",
      "                                                                                                  \n",
      " concatenate_10 (Concatenate)   (None, 48, 56, 24,   0           ['multiply_2[0][0]',             \n",
      "                                128)                              'conv3d_transpose_3[0][0]']     \n",
      "                                                                                                  \n",
      " reshape_19 (Reshape)           (None, 96, 112, 48,  0           ['global_average_pooling1d_6[0][0\n",
      "                                 1)                              ]']                              \n",
      "                                                                                                  \n",
      " reshape_20 (Reshape)           (None, 96, 112, 48,  0           ['global_max_pooling1d_6[0][0]'] \n",
      "                                 1)                                                               \n",
      "                                                                                                  \n",
      " conv3d_38 (Conv3D)             (None, 96, 112, 48,  33          ['activation_1[0][0]']           \n",
      "                                 1)                                                               \n",
      "                                                                                                  \n",
      " reshape_22 (Reshape)           (None, 96, 112, 48,  0           ['global_average_pooling1d_7[0][0\n",
      "                                 1)                              ]']                              \n",
      "                                                                                                  \n",
      " reshape_23 (Reshape)           (None, 96, 112, 48,  0           ['global_max_pooling1d_7[0][0]'] \n",
      "                                 1)                                                               \n",
      "                                                                                                  \n",
      " conv3d_39 (Conv3D)             (None, 96, 112, 48,  33          ['activation_1[0][0]']           \n",
      "                                 1)                                                               \n",
      "                                                                                                  \n",
      " global_average_pooling3d_6 (Gl  (None, 32)          0           ['activation_1[0][0]']           \n",
      " obalAveragePooling3D)                                                                            \n",
      "                                                                                                  \n",
      " global_max_pooling3d_6 (Global  (None, 32)          0           ['activation_1[0][0]']           \n",
      " MaxPooling3D)                                                                                    \n",
      "                                                                                                  \n",
      " global_average_pooling3d_7 (Gl  (None, 32)          0           ['activation_1[0][0]']           \n",
      " obalAveragePooling3D)                                                                            \n",
      "                                                                                                  \n",
      " global_max_pooling3d_7 (Global  (None, 32)          0           ['activation_1[0][0]']           \n",
      " MaxPooling3D)                                                                                    \n",
      "                                                                                                  \n",
      " conv3d_35 (Conv3D)             (None, 48, 56, 24,   221248      ['concatenate_10[0][0]']         \n",
      "                                64)                                                               \n",
      "                                                                                                  \n",
      " concatenate_11 (Concatenate)   (None, 96, 112, 48,  0           ['reshape_19[0][0]',             \n",
      "                                 3)                               'reshape_20[0][0]',             \n",
      "                                                                  'conv3d_38[0][0]']              \n",
      "                                                                                                  \n",
      " concatenate_12 (Concatenate)   (None, 96, 112, 48,  0           ['reshape_22[0][0]',             \n",
      "                                 3)                               'reshape_23[0][0]',             \n",
      "                                                                  'conv3d_39[0][0]']              \n",
      "                                                                                                  \n",
      " dense_18 (Dense)               (None, 2)            66          ['global_average_pooling3d_6[0][0\n",
      "                                                                 ]']                              \n",
      "                                                                                                  \n",
      " dense_19 (Dense)               (None, 2)            66          ['global_max_pooling3d_6[0][0]'] \n",
      "                                                                                                  \n",
      " dense_20 (Dense)               (None, 2)            66          ['global_average_pooling3d_7[0][0\n",
      "                                                                 ]']                              \n",
      "                                                                                                  \n",
      " dense_21 (Dense)               (None, 2)            66          ['global_max_pooling3d_7[0][0]'] \n",
      "                                                                                                  \n",
      " batch_normalization_18 (BatchN  (None, 48, 56, 24,   256        ['conv3d_35[0][0]']              \n",
      " ormalization)                  64)                                                               \n",
      "                                                                                                  \n",
      " conv3d_40 (Conv3D)             (None, 96, 112, 48,  376         ['concatenate_11[0][0]']         \n",
      "                                 1)                                                               \n",
      "                                                                                                  \n",
      " conv3d_41 (Conv3D)             (None, 96, 112, 48,  376         ['concatenate_12[0][0]']         \n",
      "                                 1)                                                               \n",
      "                                                                                                  \n",
      " tf_op_layer_add_13 (TensorFlow  (None, 2)           0           ['dense_18[0][0]',               \n",
      " OpLayer)                                                         'dense_19[0][0]']               \n",
      "                                                                                                  \n",
      " tf_op_layer_add_14 (TensorFlow  (None, 2)           0           ['dense_20[0][0]',               \n",
      " OpLayer)                                                         'dense_21[0][0]']               \n",
      "                                                                                                  \n",
      " activation_18 (Activation)     (None, 48, 56, 24,   0           ['batch_normalization_18[0][0]'] \n",
      "                                64)                                                               \n",
      "                                                                                                  \n",
      " tf_op_layer_add_12 (TensorFlow  (None, 96, 112, 48,  0          ['conv3d_40[0][0]',              \n",
      " OpLayer)                        1)                               'conv3d_41[0][0]']              \n",
      "                                                                                                  \n",
      " tf_op_layer_add_15 (TensorFlow  (None, 2)           0           ['tf_op_layer_add_13[0][0]',     \n",
      " OpLayer)                                                         'tf_op_layer_add_14[0][0]']     \n",
      "                                                                                                  \n",
      " conv3d_36 (Conv3D)             (None, 48, 56, 24,   110656      ['activation_18[0][0]']          \n",
      "                                64)                                                               \n",
      "                                                                                                  \n",
      " conv3d_42 (Conv3D)             (None, 96, 112, 48,  2           ['tf_op_layer_add_12[0][0]']     \n",
      "                                 1)                                                               \n",
      "                                                                                                  \n",
      " dense_22 (Dense)               (None, 32)           96          ['tf_op_layer_add_15[0][0]']     \n",
      "                                                                                                  \n",
      " batch_normalization_19 (BatchN  (None, 48, 56, 24,   256        ['conv3d_36[0][0]']              \n",
      " ormalization)                  64)                                                               \n",
      "                                                                                                  \n",
      " tf_op_layer_mul_3 (TensorFlowO  (None, 96, 112, 48,  0          ['activation_1[0][0]',           \n",
      " pLayer)                         32)                              'conv3d_42[0][0]']              \n",
      "                                                                                                  \n",
      " dense_23 (Dense)               (None, 32)           1056        ['dense_22[0][0]']               \n",
      "                                                                                                  \n",
      " activation_19 (Activation)     (None, 48, 56, 24,   0           ['batch_normalization_19[0][0]'] \n",
      "                                64)                                                               \n",
      "                                                                                                  \n",
      " multiply_3 (Multiply)          (None, 96, 112, 48,  0           ['tf_op_layer_mul_3[0][0]',      \n",
      "                                 32)                              'dense_23[0][0]']               \n",
      "                                                                                                  \n",
      " conv3d_transpose_5 (Conv3DTran  (None, 96, 112, 48,  55328      ['activation_19[0][0]']          \n",
      " spose)                          32)                                                              \n",
      "                                                                                                  \n",
      " concatenate_13 (Concatenate)   (None, 96, 112, 48,  0           ['multiply_3[0][0]',             \n",
      "                                 64)                              'conv3d_transpose_5[0][0]']     \n",
      "                                                                                                  \n",
      " conv3d_43 (Conv3D)             (None, 96, 112, 48,  55328       ['concatenate_13[0][0]']         \n",
      "                                 32)                                                              \n",
      "                                                                                                  \n",
      " batch_normalization_20 (BatchN  (None, 96, 112, 48,  128        ['conv3d_43[0][0]']              \n",
      " ormalization)                   32)                                                              \n",
      "                                                                                                  \n",
      " activation_20 (Activation)     (None, 96, 112, 48,  0           ['batch_normalization_20[0][0]'] \n",
      "                                 32)                                                              \n",
      "                                                                                                  \n",
      " conv3d_44 (Conv3D)             (None, 96, 112, 48,  27680       ['activation_20[0][0]']          \n",
      "                                 32)                                                              \n",
      "                                                                                                  \n",
      " batch_normalization_21 (BatchN  (None, 96, 112, 48,  128        ['conv3d_44[0][0]']              \n",
      " ormalization)                   32)                                                              \n",
      "                                                                                                  \n",
      " conv3d_transpose_1 (Conv3DTran  (None, 48, 56, 24,   221248     ['conv3d_transpose[0][0]']       \n",
      " spose)                         64)                                                               \n",
      "                                                                                                  \n",
      " activation_21 (Activation)     (None, 96, 112, 48,  0           ['batch_normalization_21[0][0]'] \n",
      "                                 32)                                                              \n",
      "                                                                                                  \n",
      " conv3d_transpose_4 (Conv3DTran  (None, 96, 112, 48,  55328      ['conv3d_transpose_3[0][0]']     \n",
      " spose)                          32)                                                              \n",
      "                                                                                                  \n",
      " conv3d_transpose_2 (Conv3DTran  (None, 96, 112, 48,  55328      ['conv3d_transpose_1[0][0]']     \n",
      " spose)                          32)                                                              \n",
      "                                                                                                  \n",
      " concatenate_14 (Concatenate)   (None, 96, 112, 48,  0           ['activation_21[0][0]',          \n",
      "                                 128)                             'conv3d_transpose_5[0][0]',     \n",
      "                                                                  'conv3d_transpose_4[0][0]',     \n",
      "                                                                  'conv3d_transpose_2[0][0]']     \n",
      "                                                                                                  \n",
      " conv3d_46 (Conv3D)             (None, 96, 112, 48,  110624      ['concatenate_14[0][0]']         \n",
      "                                 32)                                                              \n",
      "                                                                                                  \n",
      " batch_normalization_22 (BatchN  (None, 96, 112, 48,  128        ['conv3d_46[0][0]']              \n",
      " ormalization)                   32)                                                              \n",
      "                                                                                                  \n",
      " activation_22 (Activation)     (None, 96, 112, 48,  0           ['batch_normalization_22[0][0]'] \n",
      "                                 32)                                                              \n",
      "                                                                                                  \n",
      " conv3d_47 (Conv3D)             (None, 96, 112, 48,  27680       ['activation_22[0][0]']          \n",
      "                                 32)                                                              \n",
      "                                                                                                  \n",
      " batch_normalization_23 (BatchN  (None, 96, 112, 48,  128        ['conv3d_47[0][0]']              \n",
      " ormalization)                   32)                                                              \n",
      "                                                                                                  \n",
      " activation_23 (Activation)     (None, 96, 112, 48,  0           ['batch_normalization_23[0][0]'] \n",
      "                                 32)                                                              \n",
      "                                                                                                  \n",
      " conv3d_48 (Conv3D)             (None, 96, 112, 48,  33          ['activation_23[0][0]']          \n",
      "                                 1)                                                               \n",
      "                                                                                                  \n",
      " conv3d_45 (Conv3D)             (None, 96, 112, 48,  865         ['activation_21[0][0]']          \n",
      "                                 1)                                                               \n",
      "                                                                                                  \n",
      " conv3d_37 (Conv3D)             (None, 48, 56, 24,   1729        ['activation_19[0][0]']          \n",
      "                                1)                                                                \n",
      "                                                                                                  \n",
      " conv3d_29 (Conv3D)             (None, 24, 28, 12,   3457        ['activation_17[0][0]']          \n",
      "                                1)                                                                \n",
      "                                                                                                  \n",
      " conv3d_21 (Conv3D)             (None, 12, 14, 6, 1  6913        ['activation_15[0][0]']          \n",
      "                                )                                                                 \n",
      "                                                                                                  \n",
      " output_fused (Reshape)         (None, 96, 112, 48,  0           ['conv3d_48[0][0]']              \n",
      "                                 1)                                                               \n",
      "                                                                                                  \n",
      " output_1 (Reshape)             (None, 96, 112, 48,  0           ['conv3d_45[0][0]']              \n",
      "                                 1)                                                               \n",
      "                                                                                                  \n",
      " output_2 (Reshape)             (None, 48, 56, 24,   0           ['conv3d_37[0][0]']              \n",
      "                                1)                                                                \n",
      "                                                                                                  \n",
      " output_3 (Reshape)             (None, 24, 28, 12,   0           ['conv3d_29[0][0]']              \n",
      "                                1)                                                                \n",
      "                                                                                                  \n",
      " output_4 (Reshape)             (None, 12, 14, 6, 1  0           ['conv3d_21[0][0]']              \n",
      "                                )                                                                 \n",
      "                                                                                                  \n",
      "==================================================================================================\n",
      "Total params: 10,702,669\n",
      "Trainable params: 10,698,317\n",
      "Non-trainable params: 4,352\n",
      "__________________________________________________________________________________________________\n"
     ]
    }
   ],
   "source": [
    "DAGMNet_ch2.summary()"
   ]
  },
  {
   "cell_type": "markdown",
   "id": "0c436c74-705c-45ce-bc8b-9e12a8e89bcf",
   "metadata": {},
   "source": [
    "## Read-in Training Images"
   ]
  },
  {
   "cell_type": "code",
   "execution_count": 19,
   "id": "81280d9d-cd8d-4fa8-ae39-24060d90af5c",
   "metadata": {},
   "outputs": [],
   "source": [
    "swi_dir = \"D:\\\\data_processed_ETIS\\\\Resized_Images\\\\DAGMNet_Training\\\\SWI_Train\"\n",
    "tof_dir = \"D:\\\\data_processed_ETIS\\\\Resized_Images\\\\DAGMNet_Training\\\\TOF3D_Train\"\n",
    "\n",
    "swi_files = [file for file in os.listdir(swi_dir) if file.endswith('.nii.gz')]\n",
    "tof_files = [file for file in os.listdir(tof_dir) if file.endswith('.nii.gz')]\n",
    "\n",
    "X_train = np.zeros((len(swi_files), 96, 112, 48, 2))\n",
    "index = 0\n",
    "\n",
    "for swi_file, tof_file in zip(swi_files,tof_files):\n",
    "    swi_img = nib.load(os.path.join(swi_dir, swi_file))\n",
    "    swi_data = swi_img.get_fdata()\n",
    "    tof_img = nib.load(os.path.join(tof_dir, tof_file))\n",
    "    tof_data = swi_img.get_fdata()\n",
    "\n",
    "    swi_data = swi_data[:,:,:,np.newaxis]\n",
    "    tof_data = tof_data[:,:,:,np.newaxis]\n",
    "    input_array = np.concatenate((swi_data,tof_data),axis=3)\n",
    "    X_train[index] = input_array\n",
    "    index += 1"
   ]
  },
  {
   "cell_type": "code",
   "execution_count": 10,
   "id": "ab234b2e-968d-496c-9480-fec1edd8df34",
   "metadata": {},
   "outputs": [],
   "source": [
    "mask_dir = \"D:\\\\data_processed_ETIS\\\\Resized_Images\\\\DAGMNet_Training\\\\MASK_Train\"\n",
    "\n",
    "mask_files = [file for file in os.listdir(mask_dir) if file.endswith('.nii.gz')]\n",
    "\n",
    "y_train = np.zeros((len(mask_files), 96, 112, 48))\n",
    "index = 0\n",
    "\n",
    "for mask_file in mask_files:\n",
    "    mask_img = nib.load(os.path.join(mask_dir, mask_file))\n",
    "    mask_data = mask_img.get_fdata()\n",
    "    y_train[index] = mask_data\n",
    "    index += 1"
   ]
  },
  {
   "cell_type": "markdown",
   "id": "10b525b6-4553-475b-a0a3-f6198041bf5f",
   "metadata": {},
   "source": [
    "## Separate Test Batch of Images"
   ]
  },
  {
   "cell_type": "code",
   "execution_count": 8,
   "id": "89c67c05-8ab8-4708-b0fa-1fc532e08c6f",
   "metadata": {},
   "outputs": [],
   "source": [
    "mask_train_dir = \"D:\\\\data_processed_ETIS\\\\Resized_Images\\\\DAGMNet_Training\\\\MASK_Train\"\n",
    "mask_test_dir = \"D:\\\\data_processed_ETIS\\\\Resized_Images\\\\DAGMNet_Training\\\\MASK_Test\"\n",
    "swi_train_dir = \"D:\\\\data_processed_ETIS\\\\Resized_Images\\\\DAGMNet_Training\\\\SWI_Train\"\n",
    "swi_test_dir = \"D:\\\\data_processed_ETIS\\\\Resized_Images\\\\DAGMNet_Training\\\\SWI_Test\"\n",
    "tof_train_dir = \"D:\\\\data_processed_ETIS\\\\Resized_Images\\\\DAGMNet_Training\\\\TOF3D_Train\"\n",
    "tof_test_dir = \"D:\\\\data_processed_ETIS\\\\Resized_Images\\\\DAGMNet_Training\\\\TOF3D_Test\""
   ]
  },
  {
   "cell_type": "code",
   "execution_count": 9,
   "id": "57cdd130-70d0-4de3-89a3-29625925c4c6",
   "metadata": {},
   "outputs": [],
   "source": [
    "random.seed(777)"
   ]
  },
  {
   "cell_type": "code",
   "execution_count": 10,
   "id": "20ed4a98-2fcd-405d-8308-87e45df94d1f",
   "metadata": {},
   "outputs": [],
   "source": [
    "test_indexes = random.sample(range(len(os.listdir(mask_train_dir))), 100)"
   ]
  },
  {
   "cell_type": "code",
   "execution_count": 11,
   "id": "b014755f-e9d0-45f4-a472-a837fe76539b",
   "metadata": {},
   "outputs": [],
   "source": [
    "file_list = [os.listdir(mask_train_dir)[index] for index in test_indexes]\n",
    "for file in file_list:\n",
    "    os.rename(os.path.join(mask_train_dir, file), os.path.join(mask_test_dir, file))"
   ]
  },
  {
   "cell_type": "code",
   "execution_count": 12,
   "id": "152c75af-da9c-46cc-8b0c-ed6f852275c7",
   "metadata": {},
   "outputs": [],
   "source": [
    "file_list = [os.listdir(swi_train_dir)[index] for index in test_indexes]\n",
    "for file in file_list:\n",
    "    os.rename(os.path.join(swi_train_dir, file), os.path.join(swi_test_dir, file))"
   ]
  },
  {
   "cell_type": "code",
   "execution_count": 13,
   "id": "39df046a-e667-48b6-a747-dfa1ffcf4be9",
   "metadata": {},
   "outputs": [],
   "source": [
    "file_list = [os.listdir(tof_train_dir)[index] for index in test_indexes]\n",
    "for file in file_list:\n",
    "    os.rename(os.path.join(tof_train_dir, file), os.path.join(tof_test_dir, file))"
   ]
  },
  {
   "cell_type": "markdown",
   "id": "4ced6796-1597-405d-9478-93d9e57efd17",
   "metadata": {},
   "source": [
    "## Define Custom Loss Functions"
   ]
  },
  {
   "cell_type": "code",
   "execution_count": 87,
   "id": "4d3e0e16-396c-403c-8adb-1a7fe1be4707",
   "metadata": {},
   "outputs": [],
   "source": [
    "def l1_loss(y_pred):\n",
    "    batch_size = tensorflow.shape(y_pred)[0]\n",
    "    return tensorflow.reduce_sum(tensorflow.abs(y_pred)) / tensorflow.cast(batch_size, tensorflow.float64)"
   ]
  },
  {
   "cell_type": "code",
   "execution_count": 108,
   "id": "09c6b073-830a-4a8b-b910-b7702de2d64a",
   "metadata": {},
   "outputs": [],
   "source": [
    "def dice_loss(y_true, y_pred):\n",
    "    # tensorflow.keras.losses.Dice()\n",
    "    batch_size = y_true.shape[0]\n",
    "    # global glob_y_true\n",
    "    # glob_y_true = y_true\n",
    "    #print(1/batch_size)\n",
    "    return (1 - (2 * tensorflow.reduce_sum(y_true * y_pred)) / (tensorflow.reduce_sum(y_true) + tensorflow.reduce_sum(y_pred))) / tensorflow.cast(batch_size, tensorflow.float64)"
   ]
  },
  {
   "cell_type": "code",
   "execution_count": 109,
   "id": "d11ab534-b554-467a-a8b5-a3be3d2d5b96",
   "metadata": {},
   "outputs": [],
   "source": [
    "def dice_loss_mean(y_true, y_pred):\n",
    "    # tensorflow.keras.losses.Dice()\n",
    "    batch_size = y_true.shape[0]\n",
    "    #print(1/batch_size)\n",
    "    return (1 - (2 * tensorflow.reduce_mean(y_true * y_pred)) / (tensorflow.reduce_mean(y_true) + tensorflow.reduce_mean(y_pred)))"
   ]
  },
  {
   "cell_type": "code",
   "execution_count": 89,
   "id": "61d5bd38-5729-4ae3-8cca-fb2708336920",
   "metadata": {},
   "outputs": [],
   "source": [
    "def combined_loss(y_true, y_pred):\n",
    "    cross_entropy_loss = tensorflow.keras.losses.BinaryCrossentropy()\n",
    "    weight_cross_entropy, weight_dice, weight_l1_regularization = (1.,1.,0.00001)\n",
    "    \n",
    "    return weight_cross_entropy * cross_entropy_loss(y_true, y_pred) + weight_dice * dice_loss(y_true, y_pred) + weight_l1_regularization * l1_loss(y_pred)"
   ]
  },
  {
   "cell_type": "code",
   "execution_count": 73,
   "id": "8d383556-78a8-42d5-9ce7-e3da47febe64",
   "metadata": {},
   "outputs": [
    {
     "data": {
      "text/plain": [
       "dtype('float64')"
      ]
     },
     "execution_count": 73,
     "metadata": {},
     "output_type": "execute_result"
    }
   ],
   "source": [
    "np.array([0.,1.]).dtype"
   ]
  },
  {
   "cell_type": "code",
   "execution_count": 57,
   "id": "ca486247-d993-415f-a2fe-107b2d06498f",
   "metadata": {},
   "outputs": [
    {
     "data": {
      "text/plain": [
       "(404, 96, 112, 48)"
      ]
     },
     "execution_count": 57,
     "metadata": {},
     "output_type": "execute_result"
    }
   ],
   "source": [
    "y_train.shape"
   ]
  },
  {
   "cell_type": "code",
   "execution_count": 74,
   "id": "92652870-52c5-4950-a098-8b89d571b34a",
   "metadata": {},
   "outputs": [],
   "source": [
    "test_pred = np.random.choice(np.array([0.,1.]),(404,96,112,48), p=[0.999998,0.000002])"
   ]
  },
  {
   "cell_type": "code",
   "execution_count": 110,
   "id": "6575642a-376a-4dff-b884-c0834d363171",
   "metadata": {},
   "outputs": [
    {
     "data": {
      "text/plain": [
       "<tf.Tensor: shape=(), dtype=float64, numpy=0.0024752475247524753>"
      ]
     },
     "execution_count": 110,
     "metadata": {},
     "output_type": "execute_result"
    }
   ],
   "source": [
    "dice_loss(y_train, test_pred)"
   ]
  },
  {
   "cell_type": "code",
   "execution_count": 111,
   "id": "b3aa16f4-9553-413d-b1bb-c51062515c57",
   "metadata": {},
   "outputs": [
    {
     "data": {
      "text/plain": [
       "<tf.Tensor: shape=(), dtype=float64, numpy=1.0>"
      ]
     },
     "execution_count": 111,
     "metadata": {},
     "output_type": "execute_result"
    }
   ],
   "source": [
    "dice_loss_mean(y_train, test_pred)"
   ]
  },
  {
   "cell_type": "code",
   "execution_count": 69,
   "id": "1bb627c2-f8cf-4804-b2b0-568adfc2ba1f",
   "metadata": {},
   "outputs": [
    {
     "data": {
      "text/plain": [
       "<tf.Tensor: shape=(), dtype=float64, numpy=352.0>"
      ]
     },
     "execution_count": 69,
     "metadata": {},
     "output_type": "execute_result"
    }
   ],
   "source": [
    "tensorflow.reduce_sum(y_train)"
   ]
  },
  {
   "cell_type": "code",
   "execution_count": 70,
   "id": "511fc168-8199-425c-9072-d1507e3e952d",
   "metadata": {},
   "outputs": [
    {
     "data": {
      "text/plain": [
       "<tf.Tensor: shape=(), dtype=int32, numpy=408>"
      ]
     },
     "execution_count": 70,
     "metadata": {},
     "output_type": "execute_result"
    }
   ],
   "source": [
    "tensorflow.reduce_sum(test_pred)"
   ]
  },
  {
   "cell_type": "code",
   "execution_count": 92,
   "id": "58b6a55f-a4c5-4c24-a883-2ece1d7c3cb7",
   "metadata": {},
   "outputs": [
    {
     "data": {
      "text/plain": [
       "<tf.Tensor: shape=(), dtype=int32, numpy=404>"
      ]
     },
     "execution_count": 92,
     "metadata": {},
     "output_type": "execute_result"
    }
   ],
   "source": [
    "tensorflow.shape(y_train)[0]"
   ]
  },
  {
   "cell_type": "code",
   "execution_count": 107,
   "id": "4578cc67-0e7c-49ab-a374-ccad3c160461",
   "metadata": {},
   "outputs": [
    {
     "ename": "AttributeError",
     "evalue": "'Tensor' object has no attribute '_datatype_enum'",
     "output_type": "error",
     "traceback": [
      "\u001b[1;31m---------------------------------------------------------------------------\u001b[0m",
      "\u001b[1;31mAttributeError\u001b[0m                            Traceback (most recent call last)",
      "Cell \u001b[1;32mIn[107], line 1\u001b[0m\n\u001b[1;32m----> 1\u001b[0m \u001b[43mtensorflow\u001b[49m\u001b[38;5;241;43m.\u001b[39;49m\u001b[43mprint\u001b[49m\u001b[43m(\u001b[49m\u001b[43mglob_y_true\u001b[49m\u001b[43m)\u001b[49m\n",
      "File \u001b[1;32m~\\tensorflow_gpu_env\\lib\\site-packages\\tensorflow\\python\\util\\traceback_utils.py:153\u001b[0m, in \u001b[0;36mfilter_traceback.<locals>.error_handler\u001b[1;34m(*args, **kwargs)\u001b[0m\n\u001b[0;32m    151\u001b[0m \u001b[38;5;28;01mexcept\u001b[39;00m \u001b[38;5;167;01mException\u001b[39;00m \u001b[38;5;28;01mas\u001b[39;00m e:\n\u001b[0;32m    152\u001b[0m   filtered_tb \u001b[38;5;241m=\u001b[39m _process_traceback_frames(e\u001b[38;5;241m.\u001b[39m__traceback__)\n\u001b[1;32m--> 153\u001b[0m   \u001b[38;5;28;01mraise\u001b[39;00m e\u001b[38;5;241m.\u001b[39mwith_traceback(filtered_tb) \u001b[38;5;28;01mfrom\u001b[39;00m \u001b[38;5;28;01mNone\u001b[39;00m\n\u001b[0;32m    154\u001b[0m \u001b[38;5;28;01mfinally\u001b[39;00m:\n\u001b[0;32m    155\u001b[0m   \u001b[38;5;28;01mdel\u001b[39;00m filtered_tb\n",
      "File \u001b[1;32m~\\tensorflow_gpu_env\\lib\\site-packages\\tensorflow\\python\\framework\\ops.py:446\u001b[0m, in \u001b[0;36mTensor.__getattr__\u001b[1;34m(self, name)\u001b[0m\n\u001b[0;32m    437\u001b[0m \u001b[38;5;28;01mif\u001b[39;00m name \u001b[38;5;129;01min\u001b[39;00m {\u001b[38;5;124m\"\u001b[39m\u001b[38;5;124mT\u001b[39m\u001b[38;5;124m\"\u001b[39m, \u001b[38;5;124m\"\u001b[39m\u001b[38;5;124mastype\u001b[39m\u001b[38;5;124m\"\u001b[39m, \u001b[38;5;124m\"\u001b[39m\u001b[38;5;124mravel\u001b[39m\u001b[38;5;124m\"\u001b[39m, \u001b[38;5;124m\"\u001b[39m\u001b[38;5;124mtranspose\u001b[39m\u001b[38;5;124m\"\u001b[39m, \u001b[38;5;124m\"\u001b[39m\u001b[38;5;124mreshape\u001b[39m\u001b[38;5;124m\"\u001b[39m, \u001b[38;5;124m\"\u001b[39m\u001b[38;5;124mclip\u001b[39m\u001b[38;5;124m\"\u001b[39m, \u001b[38;5;124m\"\u001b[39m\u001b[38;5;124msize\u001b[39m\u001b[38;5;124m\"\u001b[39m,\n\u001b[0;32m    438\u001b[0m             \u001b[38;5;124m\"\u001b[39m\u001b[38;5;124mtolist\u001b[39m\u001b[38;5;124m\"\u001b[39m, \u001b[38;5;124m\"\u001b[39m\u001b[38;5;124mdata\u001b[39m\u001b[38;5;124m\"\u001b[39m}:\n\u001b[0;32m    439\u001b[0m   \u001b[38;5;66;03m# TODO(wangpeng): Export the enable_numpy_behavior knob\u001b[39;00m\n\u001b[0;32m    440\u001b[0m   \u001b[38;5;28;01mraise\u001b[39;00m \u001b[38;5;167;01mAttributeError\u001b[39;00m(\n\u001b[0;32m    441\u001b[0m       \u001b[38;5;124mf\u001b[39m\u001b[38;5;124m\"\u001b[39m\u001b[38;5;132;01m{\u001b[39;00m\u001b[38;5;28mtype\u001b[39m(\u001b[38;5;28mself\u001b[39m)\u001b[38;5;241m.\u001b[39m\u001b[38;5;18m__name__\u001b[39m\u001b[38;5;132;01m}\u001b[39;00m\u001b[38;5;124m object has no attribute \u001b[39m\u001b[38;5;124m'\u001b[39m\u001b[38;5;132;01m{\u001b[39;00mname\u001b[38;5;132;01m}\u001b[39;00m\u001b[38;5;124m'\u001b[39m\u001b[38;5;124m. \u001b[39m\u001b[38;5;124m\"\u001b[39m \u001b[38;5;241m+\u001b[39m \u001b[38;5;124m\"\"\"\u001b[39m\n\u001b[0;32m    442\u001b[0m \u001b[38;5;124m    If you are looking for numpy-related methods, please run the following:\u001b[39m\n\u001b[0;32m    443\u001b[0m \u001b[38;5;124m    from tensorflow.python.ops.numpy_ops import np_config\u001b[39m\n\u001b[0;32m    444\u001b[0m \u001b[38;5;124m    np_config.enable_numpy_behavior()\u001b[39m\n\u001b[0;32m    445\u001b[0m \u001b[38;5;124m  \u001b[39m\u001b[38;5;124m\"\"\"\u001b[39m)\n\u001b[1;32m--> 446\u001b[0m \u001b[38;5;28;43mself\u001b[39;49m\u001b[38;5;241;43m.\u001b[39;49m\u001b[38;5;21;43m__getattribute__\u001b[39;49m\u001b[43m(\u001b[49m\u001b[43mname\u001b[49m\u001b[43m)\u001b[49m\n",
      "\u001b[1;31mAttributeError\u001b[0m: 'Tensor' object has no attribute '_datatype_enum'"
     ]
    }
   ],
   "source": [
    "tensorflow.print(glob_y_true)"
   ]
  },
  {
   "cell_type": "markdown",
   "id": "ac3d0e41-1e7f-450d-b0b7-72b4e7748ada",
   "metadata": {},
   "source": [
    "## Restructure Network"
   ]
  },
  {
   "cell_type": "code",
   "execution_count": 50,
   "id": "f045c31c-393d-48fd-b947-5793acccd335",
   "metadata": {},
   "outputs": [],
   "source": [
    "last_layer_to_keep = DAGMNet_ch2.layers[-5].output"
   ]
  },
  {
   "cell_type": "code",
   "execution_count": 51,
   "id": "86d17ab1-311d-44b2-ba53-46d4dab68464",
   "metadata": {},
   "outputs": [],
   "source": [
    "New_DAGMNet_ch2 = tensorflow.keras.Model(inputs=DAGMNet_ch2.input, outputs=last_layer_to_keep)"
   ]
  },
  {
   "cell_type": "code",
   "execution_count": 52,
   "id": "b55eec67-db1e-4927-b115-99cd31f0c11f",
   "metadata": {},
   "outputs": [],
   "source": [
    "New_DAGMNet_ch2.compile(optimizer=tensorflow.keras.optimizers.Adam(learning_rate=0.0003), loss=combined_loss, metrics=[\"accuracy\"])"
   ]
  },
  {
   "cell_type": "code",
   "execution_count": 102,
   "id": "7ad29958-e5e3-412f-ba96-305e25b092be",
   "metadata": {},
   "outputs": [
    {
     "name": "stdout",
     "output_type": "stream",
     "text": [
      "Epoch 1/20\n"
     ]
    },
    {
     "ename": "ValueError",
     "evalue": "in user code:\n\n    File \"C:\\Users\\wijflo\\tensorflow_gpu_env\\lib\\site-packages\\keras\\engine\\training.py\", line 1160, in train_function  *\n        return step_function(self, iterator)\n    File \"C:\\Users\\wijflo\\AppData\\Local\\Temp\\ipykernel_11632\\1514347977.py\", line 5, in combined_loss  *\n        return weight_cross_entropy * cross_entropy_loss(y_true, y_pred) + weight_dice * dice_loss(y_true, y_pred) + weight_l1_regularization * l1_loss(y_pred)\n    File \"C:\\Users\\wijflo\\AppData\\Local\\Temp\\ipykernel_11632\\3381169296.py\", line 7, in dice_loss  *\n        return (1 - (2 * tensorflow.reduce_sum(y_true * y_pred)) / (tensorflow.reduce_sum(y_true) + tensorflow.reduce_sum(y_pred))) / tensorflow.cast(batch_size, tensorflow.float64)\n\n    ValueError: None values not supported.\n",
     "output_type": "error",
     "traceback": [
      "\u001b[1;31m---------------------------------------------------------------------------\u001b[0m",
      "\u001b[1;31mValueError\u001b[0m                                Traceback (most recent call last)",
      "Cell \u001b[1;32mIn[102], line 1\u001b[0m\n\u001b[1;32m----> 1\u001b[0m \u001b[43mNew_DAGMNet_ch2\u001b[49m\u001b[38;5;241;43m.\u001b[39;49m\u001b[43mfit\u001b[49m\u001b[43m(\u001b[49m\u001b[43mX_train\u001b[49m\u001b[43m,\u001b[49m\u001b[43m \u001b[49m\u001b[43my_train\u001b[49m\u001b[43m,\u001b[49m\u001b[43m \u001b[49m\u001b[43mepochs\u001b[49m\u001b[38;5;241;43m=\u001b[39;49m\u001b[38;5;241;43m20\u001b[39;49m\u001b[43m,\u001b[49m\u001b[43m \u001b[49m\u001b[43mvalidation_split\u001b[49m\u001b[38;5;241;43m=\u001b[39;49m\u001b[38;5;241;43m0.2\u001b[39;49m\u001b[43m)\u001b[49m\n",
      "File \u001b[1;32m~\\tensorflow_gpu_env\\lib\\site-packages\\keras\\utils\\traceback_utils.py:70\u001b[0m, in \u001b[0;36mfilter_traceback.<locals>.error_handler\u001b[1;34m(*args, **kwargs)\u001b[0m\n\u001b[0;32m     67\u001b[0m     filtered_tb \u001b[38;5;241m=\u001b[39m _process_traceback_frames(e\u001b[38;5;241m.\u001b[39m__traceback__)\n\u001b[0;32m     68\u001b[0m     \u001b[38;5;66;03m# To get the full stack trace, call:\u001b[39;00m\n\u001b[0;32m     69\u001b[0m     \u001b[38;5;66;03m# `tf.debugging.disable_traceback_filtering()`\u001b[39;00m\n\u001b[1;32m---> 70\u001b[0m     \u001b[38;5;28;01mraise\u001b[39;00m e\u001b[38;5;241m.\u001b[39mwith_traceback(filtered_tb) \u001b[38;5;28;01mfrom\u001b[39;00m \u001b[38;5;28;01mNone\u001b[39;00m\n\u001b[0;32m     71\u001b[0m \u001b[38;5;28;01mfinally\u001b[39;00m:\n\u001b[0;32m     72\u001b[0m     \u001b[38;5;28;01mdel\u001b[39;00m filtered_tb\n",
      "File \u001b[1;32m~\\AppData\\Local\\Temp\\__autograph_generated_filegvaxs_np.py:15\u001b[0m, in \u001b[0;36mouter_factory.<locals>.inner_factory.<locals>.tf__train_function\u001b[1;34m(iterator)\u001b[0m\n\u001b[0;32m     13\u001b[0m \u001b[38;5;28;01mtry\u001b[39;00m:\n\u001b[0;32m     14\u001b[0m     do_return \u001b[38;5;241m=\u001b[39m \u001b[38;5;28;01mTrue\u001b[39;00m\n\u001b[1;32m---> 15\u001b[0m     retval_ \u001b[38;5;241m=\u001b[39m ag__\u001b[38;5;241m.\u001b[39mconverted_call(ag__\u001b[38;5;241m.\u001b[39mld(step_function), (ag__\u001b[38;5;241m.\u001b[39mld(\u001b[38;5;28mself\u001b[39m), ag__\u001b[38;5;241m.\u001b[39mld(iterator)), \u001b[38;5;28;01mNone\u001b[39;00m, fscope)\n\u001b[0;32m     16\u001b[0m \u001b[38;5;28;01mexcept\u001b[39;00m:\n\u001b[0;32m     17\u001b[0m     do_return \u001b[38;5;241m=\u001b[39m \u001b[38;5;28;01mFalse\u001b[39;00m\n",
      "File \u001b[1;32m~\\AppData\\Local\\Temp\\__autograph_generated_file0mj7ul40.py:14\u001b[0m, in \u001b[0;36mouter_factory.<locals>.inner_factory.<locals>.tf__combined_loss\u001b[1;34m(y_true, y_pred)\u001b[0m\n\u001b[0;32m     12\u001b[0m \u001b[38;5;28;01mtry\u001b[39;00m:\n\u001b[0;32m     13\u001b[0m     do_return \u001b[38;5;241m=\u001b[39m \u001b[38;5;28;01mTrue\u001b[39;00m\n\u001b[1;32m---> 14\u001b[0m     retval_ \u001b[38;5;241m=\u001b[39m ag__\u001b[38;5;241m.\u001b[39mld(weight_cross_entropy) \u001b[38;5;241m*\u001b[39m ag__\u001b[38;5;241m.\u001b[39mconverted_call(ag__\u001b[38;5;241m.\u001b[39mld(cross_entropy_loss), (ag__\u001b[38;5;241m.\u001b[39mld(y_true), ag__\u001b[38;5;241m.\u001b[39mld(y_pred)), \u001b[38;5;28;01mNone\u001b[39;00m, fscope) \u001b[38;5;241m+\u001b[39m ag__\u001b[38;5;241m.\u001b[39mld(weight_dice) \u001b[38;5;241m*\u001b[39m ag__\u001b[38;5;241m.\u001b[39mconverted_call(ag__\u001b[38;5;241m.\u001b[39mld(dice_loss), (ag__\u001b[38;5;241m.\u001b[39mld(y_true), ag__\u001b[38;5;241m.\u001b[39mld(y_pred)), \u001b[38;5;28;01mNone\u001b[39;00m, fscope) \u001b[38;5;241m+\u001b[39m ag__\u001b[38;5;241m.\u001b[39mld(weight_l1_regularization) \u001b[38;5;241m*\u001b[39m ag__\u001b[38;5;241m.\u001b[39mconverted_call(ag__\u001b[38;5;241m.\u001b[39mld(l1_loss), (ag__\u001b[38;5;241m.\u001b[39mld(y_pred),), \u001b[38;5;28;01mNone\u001b[39;00m, fscope)\n\u001b[0;32m     15\u001b[0m \u001b[38;5;28;01mexcept\u001b[39;00m:\n\u001b[0;32m     16\u001b[0m     do_return \u001b[38;5;241m=\u001b[39m \u001b[38;5;28;01mFalse\u001b[39;00m\n",
      "File \u001b[1;32m~\\AppData\\Local\\Temp\\__autograph_generated_filecjx2igot.py:15\u001b[0m, in \u001b[0;36mouter_factory.<locals>.inner_factory.<locals>.tf__dice_loss\u001b[1;34m(y_true, y_pred)\u001b[0m\n\u001b[0;32m     13\u001b[0m \u001b[38;5;28;01mtry\u001b[39;00m:\n\u001b[0;32m     14\u001b[0m     do_return \u001b[38;5;241m=\u001b[39m \u001b[38;5;28;01mTrue\u001b[39;00m\n\u001b[1;32m---> 15\u001b[0m     retval_ \u001b[38;5;241m=\u001b[39m (\u001b[38;5;241m1\u001b[39m \u001b[38;5;241m-\u001b[39m \u001b[38;5;241m2\u001b[39m \u001b[38;5;241m*\u001b[39m ag__\u001b[38;5;241m.\u001b[39mconverted_call(ag__\u001b[38;5;241m.\u001b[39mld(tensorflow)\u001b[38;5;241m.\u001b[39mreduce_sum, (ag__\u001b[38;5;241m.\u001b[39mld(y_true) \u001b[38;5;241m*\u001b[39m ag__\u001b[38;5;241m.\u001b[39mld(y_pred),), \u001b[38;5;28;01mNone\u001b[39;00m, fscope) \u001b[38;5;241m/\u001b[39m (ag__\u001b[38;5;241m.\u001b[39mconverted_call(ag__\u001b[38;5;241m.\u001b[39mld(tensorflow)\u001b[38;5;241m.\u001b[39mreduce_sum, (ag__\u001b[38;5;241m.\u001b[39mld(y_true),), \u001b[38;5;28;01mNone\u001b[39;00m, fscope) \u001b[38;5;241m+\u001b[39m ag__\u001b[38;5;241m.\u001b[39mconverted_call(ag__\u001b[38;5;241m.\u001b[39mld(tensorflow)\u001b[38;5;241m.\u001b[39mreduce_sum, (ag__\u001b[38;5;241m.\u001b[39mld(y_pred),), \u001b[38;5;28;01mNone\u001b[39;00m, fscope))) \u001b[38;5;241m/\u001b[39m ag__\u001b[38;5;241m.\u001b[39mconverted_call(ag__\u001b[38;5;241m.\u001b[39mld(tensorflow)\u001b[38;5;241m.\u001b[39mcast, (ag__\u001b[38;5;241m.\u001b[39mld(batch_size), ag__\u001b[38;5;241m.\u001b[39mld(tensorflow)\u001b[38;5;241m.\u001b[39mfloat64), \u001b[38;5;28;01mNone\u001b[39;00m, fscope)\n\u001b[0;32m     16\u001b[0m \u001b[38;5;28;01mexcept\u001b[39;00m:\n\u001b[0;32m     17\u001b[0m     do_return \u001b[38;5;241m=\u001b[39m \u001b[38;5;28;01mFalse\u001b[39;00m\n",
      "\u001b[1;31mValueError\u001b[0m: in user code:\n\n    File \"C:\\Users\\wijflo\\tensorflow_gpu_env\\lib\\site-packages\\keras\\engine\\training.py\", line 1160, in train_function  *\n        return step_function(self, iterator)\n    File \"C:\\Users\\wijflo\\AppData\\Local\\Temp\\ipykernel_11632\\1514347977.py\", line 5, in combined_loss  *\n        return weight_cross_entropy * cross_entropy_loss(y_true, y_pred) + weight_dice * dice_loss(y_true, y_pred) + weight_l1_regularization * l1_loss(y_pred)\n    File \"C:\\Users\\wijflo\\AppData\\Local\\Temp\\ipykernel_11632\\3381169296.py\", line 7, in dice_loss  *\n        return (1 - (2 * tensorflow.reduce_sum(y_true * y_pred)) / (tensorflow.reduce_sum(y_true) + tensorflow.reduce_sum(y_pred))) / tensorflow.cast(batch_size, tensorflow.float64)\n\n    ValueError: None values not supported.\n"
     ]
    }
   ],
   "source": [
    "New_DAGMNet_ch2.fit(X_train, y_train, epochs=20, validation_split=0.2)"
   ]
  },
  {
   "cell_type": "code",
   "execution_count": null,
   "id": "513ec84a-91eb-4635-a47d-1dae0e21fc08",
   "metadata": {},
   "outputs": [],
   "source": [
    "New_DAGMNet_ch2.save(\"D:\\\\ADS_Inference\\\\Retrained_ADS\\\\Retrained_DAGMNet_ch2_404.h5\")"
   ]
  }
 ],
 "metadata": {
  "kernelspec": {
   "display_name": "Python 3 (ipykernel)",
   "language": "python",
   "name": "python3"
  },
  "language_info": {
   "codemirror_mode": {
    "name": "ipython",
    "version": 3
   },
   "file_extension": ".py",
   "mimetype": "text/x-python",
   "name": "python",
   "nbconvert_exporter": "python",
   "pygments_lexer": "ipython3",
   "version": "3.10.6"
  }
 },
 "nbformat": 4,
 "nbformat_minor": 5
}
